{
 "cells": [
  {
   "cell_type": "code",
   "execution_count": 2,
   "id": "painful-offset",
   "metadata": {},
   "outputs": [],
   "source": [
    "import random\n",
    "random.seed(0)\n",
    "import pandas as pd\n",
    "import numpy as np\n",
    "np.random.seed(0)\n",
    "from scipy import stats\n",
    "import seaborn as sns\n",
    "import matplotlib.pyplot as plt\n",
    "from IPython.display import YouTubeVideo"
   ]
  },
  {
   "cell_type": "markdown",
   "id": "systematic-shame",
   "metadata": {},
   "source": [
    "# Super Statistics\n",
    "\n",
    "This lesson is designed to orient you to statistical thinking and give you practice with Python's statistics library (`scipy`).\n",
    "\n",
    "The assignment will be a mixture of reading informative pages, watching videos, and answering questions. Please do your best and seek help as needed!\n",
    "\n",
    "### Learning Goals\n",
    "\n",
    "By the end of the lesson, students should be able to:\n",
    "\n",
    "* Part 1\n",
    "    * Explain the concept of probability vs. statistics\n",
    "* Part 2\n",
    "    * Generate data using a distribution function from `scipy`\n",
    "* Part 3\n",
    "    * Given a dataset, generate and interpret appropriate summary statistics using `scipy`\n",
    "    * Classify data as continuous, categorical, or binary\n",
    "    * Differentiate between paired and unpaired data\n",
    "    * Apply logarithms to manipulate a distribution\n",
    "* Part 4\n",
    "    * Determine the distribution of a dataset using `scipy`\n",
    "    * Describe and justify the use of parameteric vs. non-parameteric statistics\n",
    "* Part 5\n",
    "    * Create and interpret a statistical hypothesis\n",
    "    * Given a dataset, perform and interpret correlation analysis using `scipy`\n",
    "    * Given a hypothesis and dataset, perform and interpret an appropriate statistical test using `scipy`\n",
    "    * Explain the concept of statistical significance\n",
    "* Part 6\n",
    "    * Describe and explain the purpose of effect sizes\n",
    "    * Calculate an effect size\n",
    "\n",
    "### Caveat\n",
    "\n",
    "I want to start by admitting that I am not as good at statistics as I am at Computer Science. I did distinctly *okay* in my undergraduate statistics class. I would even say that I didn't genuinely learn statistics until I got to graduate school, and had my own datasets. However, that was the turning point - I suddenly understood things so much better when I had a context I cared about. Context is key to learning - I believe statistics is very challenging for many folks because they don't see how it applies to things they are interested in.\n",
    "\n",
    "You might walk into this assignment with more statistics knowledge than me, or alternatively you might be a complete novice. Either way, I'd like to make sure everyone leaves the assignment better than they were. This will probably include me, Dr. Bart. If you identify mistakes or errors, don't be afraid to raise them up in the Discord or the Ohyay. I am only human, this assignment was created in a single day, and I don't have a huge background in statistics. Errors or even misconceptions are likely! I'd rather we all collaboratively improve, then have been right.\n",
    "\n",
    "# Part 1) Basic Statistics\n",
    "\n",
    "Watch the following video, and then answer the following questions below.\n",
    "\n",
    "<https://youtu.be/PufDBlSsqys>"
   ]
  },
  {
   "cell_type": "markdown",
   "id": "israeli-amendment",
   "metadata": {},
   "source": [
    "#### Q1.1)\n",
    "What is the difference between probablity and statistics? Define both terms clearly, especially in terms of their different goals."
   ]
  },
  {
   "cell_type": "markdown",
   "id": "insured-hello",
   "metadata": {},
   "source": [
    "Probability is more theoretical (based on a model), whereas statistics deals with experimental data."
   ]
  },
  {
   "cell_type": "markdown",
   "id": "bridal-denver",
   "metadata": {},
   "source": [
    "# Part 2) Distributions\n",
    "\n",
    "#### Q2.1)\n",
    "\n",
    "In statistics, what is a \"Random Variable\"? How is it different from an Algebraic Variable or a Computer Science Variable?"
   ]
  },
  {
   "cell_type": "markdown",
   "id": "seeing-montreal",
   "metadata": {},
   "source": [
    "A random variable signifies the probability of something happening. An algebraic or computer science variable is typically calculated as a single value, but a random variable represents a set of several possible outcomes."
   ]
  },
  {
   "cell_type": "markdown",
   "id": "variable-masters",
   "metadata": {},
   "source": [
    "#### Q2.2)\n",
    "In statistics, what is a \"Probability Distribution\"?"
   ]
  },
  {
   "cell_type": "markdown",
   "id": "satellite-dependence",
   "metadata": {},
   "source": [
    "A probability distribution is a function that outputs all the possible values that a random variable can have over a certain range."
   ]
  },
  {
   "cell_type": "markdown",
   "id": "afraid-newton",
   "metadata": {},
   "source": [
    "#### Q2.3)\n",
    "\n",
    "In Discrete Math, what is a \"Function\"?"
   ]
  },
  {
   "cell_type": "markdown",
   "id": "disciplinary-chrome",
   "metadata": {},
   "source": [
    "A \"function\" x->y in discrete math is the mapping of values in set x to outputs in set y."
   ]
  },
  {
   "cell_type": "markdown",
   "id": "immediate-cigarette",
   "metadata": {},
   "source": [
    "#### Q2.4)\n",
    "\n",
    "What is the relationship between a random variable and the concept of a \"nullary function\" like the following?"
   ]
  },
  {
   "cell_type": "code",
   "execution_count": 19,
   "id": "known-aside",
   "metadata": {},
   "outputs": [
    {
     "data": {
      "text/plain": [
       "[6, 0, 4, 8, 7, 6, 4, 7, 5, 9]"
      ]
     },
     "execution_count": 19,
     "metadata": {},
     "output_type": "execute_result"
    }
   ],
   "source": [
    "def X(): return random.randint(0, 10)\n",
    "\n",
    "[X() for i in range(10)]"
   ]
  },
  {
   "cell_type": "markdown",
   "id": "preceding-bones",
   "metadata": {},
   "source": [
    "Both the random variable and the nullary function take in no input but can output a range of different values."
   ]
  },
  {
   "cell_type": "markdown",
   "id": "controlling-imagination",
   "metadata": {},
   "source": [
    "#### Q2.5) \n",
    "What is the relationship between a distribution and a function?"
   ]
  },
  {
   "cell_type": "markdown",
   "id": "extra-language",
   "metadata": {},
   "source": [
    "A distribution is a more specific type of function that represents experimental outcomes."
   ]
  },
  {
   "cell_type": "markdown",
   "id": "bigger-netherlands",
   "metadata": {},
   "source": [
    "Watch the following video about different probability distributions:\n",
    "\n",
    "<https://youtu.be/b9a27XN_6tg>"
   ]
  },
  {
   "cell_type": "markdown",
   "id": "temporal-estate",
   "metadata": {},
   "source": [
    "#### Q2.6)\n",
    "\n",
    "For each of the following probability distributions:\n",
    "\n",
    "1. Provide the name of the distribution\n",
    "2. Identify it as continuous, discrete, or both\n",
    "3. Provide a brief description of the distribution and what it is used for\n",
    "4. Find an example from the real world where this distribution occurs (not one presented in the video)\n",
    "5. Provide a link to the appropriate `scipy.stats` function\n",
    "6. Use the `scipy` module's distribution functions to create an visual example"
   ]
  },
  {
   "cell_type": "markdown",
   "id": "isolated-oxygen",
   "metadata": {},
   "source": [
    "##### Uniform Distribution\n",
    "\n",
    "* Description: A random variable where all of outcomes are equally likely.\n",
    "* Kind: Can be both continuous or discrete\n",
    "* Example: Rolling a fair, six-sided die.\n",
    "* Link: [Continous](https://docs.scipy.org/doc/scipy/reference/generated/scipy.stats.uniform.html#scipy.stats.uniform), [Discrete](https://docs.scipy.org/doc/scipy/reference/generated/scipy.stats.randint.html)\n"
   ]
  },
  {
   "cell_type": "code",
   "execution_count": 34,
   "id": "seventh-cheese",
   "metadata": {},
   "outputs": [
    {
     "data": {
      "image/png": "[encoded data removed]",
      "text/plain": [
       "<Figure size 432x288 with 1 Axes>"
      ]
     },
     "metadata": {
      "needs_background": "light"
     },
     "output_type": "display_data"
    }
   ],
   "source": [
    "random_variables = stats.uniform.rvs(size=10000)\n",
    "plt.hist(random_variables)\n",
    "plt.title(\"Randomly Generated Uniform Distribution\")\n",
    "plt.show()"
   ]
  },
  {
   "cell_type": "markdown",
   "id": "baking-elements",
   "metadata": {},
   "source": [
    "##### Bernouli Distribution"
   ]
  },
  {
   "cell_type": "markdown",
   "id": "parliamentary-boutique",
   "metadata": {},
   "source": [
    "* Description: A distribution describing a single event with only two possible outcomes.\n",
    "* Kind: Discrete\n",
    "* Example: A single coin landing on heads or tails.\n",
    "* Link: https://docs.scipy.org/doc/scipy/reference/generated/scipy.stats.bernoulli.html"
   ]
  },
  {
   "cell_type": "code",
   "execution_count": 11,
   "id": "gentle-buffalo",
   "metadata": {},
   "outputs": [
    {
     "data": {
      "image/png": "[encoded data removed]",
      "text/plain": [
       "<Figure size 432x288 with 1 Axes>"
      ]
     },
     "metadata": {
      "needs_background": "light"
     },
     "output_type": "display_data"
    }
   ],
   "source": [
    "from scipy.stats import bernoulli\n",
    "\n",
    "fig, ax = plt.subplots(1, 1)\n",
    "p = 0.6\n",
    "x = np.arange(bernoulli.ppf(0.01, p), bernoulli.ppf(0.99, p))\n",
    "ax.plot(x, bernoulli.pmf(x, p), 'ro', ms=8, label='bernoulli pmf')\n",
    "ax.vlines(x, 0, bernoulli.pmf(x, p), colors='r', lw=5, alpha=0.5)\n",
    "rv = bernoulli(p)\n",
    "ax.vlines(x, 0, rv.pmf(x), colors='k', linestyles='-', lw=1, label='frozen pmf')\n",
    "ax.legend(loc='best', frameon=False)\n",
    "plt.show()"
   ]
  },
  {
   "cell_type": "markdown",
   "id": "available-oriental",
   "metadata": {},
   "source": [
    "##### Binomial Distribution"
   ]
  },
  {
   "cell_type": "markdown",
   "id": "pacific-steel",
   "metadata": {},
   "source": [
    "* Description: A distribution describing an event with two possible outcomes being repeated several times in a row.\n",
    "* Kind: Discrete\n",
    "* Example: 10 trials of picking a red or blue marble (and replacing it) out of a bag with only red and blue marbles in it.\n",
    "* Link: https://docs.scipy.org/doc/scipy/reference/generated/scipy.stats.binom.html"
   ]
  },
  {
   "cell_type": "code",
   "execution_count": 12,
   "id": "offshore-difficulty",
   "metadata": {},
   "outputs": [
    {
     "data": {
      "image/png": "[encoded data removed]",
      "text/plain": [
       "<Figure size 432x288 with 1 Axes>"
      ]
     },
     "metadata": {
      "needs_background": "light"
     },
     "output_type": "display_data"
    }
   ],
   "source": [
    "from scipy.stats import binom\n",
    "\n",
    "fig, ax = plt.subplots(1, 1)\n",
    "n, p = 10, 0.7\n",
    "mean, var, skew, kurt = binom.stats(n, p, moments='mvsk')\n",
    "x = np.arange(binom.ppf(0.01, n, p), binom.ppf(0.99, n, p))\n",
    "ax.plot(x, binom.pmf(x, n, p), 'bo', ms=8, label='binom pmf')\n",
    "ax.vlines(x, 0, binom.pmf(x, n, p), colors='g', lw=5, alpha=0.5)\n",
    "rv = binom(n, p)\n",
    "ax.vlines(x, 0, rv.pmf(x), colors='k', linestyles='-', lw=1, label='frozen pmf')\n",
    "ax.legend(loc='best', frameon=False)\n",
    "plt.show()"
   ]
  },
  {
   "cell_type": "markdown",
   "id": "brief-growing",
   "metadata": {},
   "source": [
    "##### Poisson Distribution"
   ]
  },
  {
   "cell_type": "markdown",
   "id": "little-fifty",
   "metadata": {},
   "source": [
    "* Description: A distribution describing how likely an event is to occur.\n",
    "* Kind: Discrete\n",
    "* Example: Finding the probability that more than 10 students in a class will get a 100 on the exam.\n",
    "* Link: https://docs.scipy.org/doc/scipy/reference/generated/scipy.stats.poisson.html"
   ]
  },
  {
   "cell_type": "code",
   "execution_count": 13,
   "id": "noted-zimbabwe",
   "metadata": {},
   "outputs": [
    {
     "data": {
      "image/png": "[encoded data removed]",
      "text/plain": [
       "<Figure size 432x288 with 1 Axes>"
      ]
     },
     "metadata": {
      "needs_background": "light"
     },
     "output_type": "display_data"
    }
   ],
   "source": [
    "from scipy.stats import poisson\n",
    "\n",
    "fig, ax = plt.subplots(1, 1)\n",
    "mu = 0.3\n",
    "mean, var, skew, kurt = poisson.stats(mu, moments='mvsk')\n",
    "x = np.arange(poisson.ppf(0.01, mu), poisson.ppf(0.99, mu))\n",
    "ax.plot(x, poisson.pmf(x, mu), 'bo', ms=8, label='poisson pmf')\n",
    "ax.vlines(x, 0, poisson.pmf(x, mu), colors='b', lw=5, alpha=0.5)\n",
    "rv = poisson(mu)\n",
    "ax.vlines(x, 0, rv.pmf(x), colors='k', linestyles='-', lw=1, label='frozen pmf')\n",
    "ax.legend(loc='best', frameon=False)\n",
    "plt.show()"
   ]
  },
  {
   "cell_type": "markdown",
   "id": "stuck-lafayette",
   "metadata": {},
   "source": [
    "##### Normal Distribution"
   ]
  },
  {
   "cell_type": "markdown",
   "id": "broadband-rogers",
   "metadata": {},
   "source": [
    "* Description: A distribution for an independent random variable that is also a real number.\n",
    "* Kind: Continuous\n",
    "* Example: Height measurements for a particular age group of people.\n",
    "* Link: https://docs.scipy.org/doc/scipy/reference/generated/scipy.stats.norm.html"
   ]
  },
  {
   "cell_type": "code",
   "execution_count": 15,
   "id": "norwegian-subcommittee",
   "metadata": {},
   "outputs": [
    {
     "data": {
      "image/png": "[encoded data removed]",
      "text/plain": [
       "<Figure size 432x288 with 1 Axes>"
      ]
     },
     "metadata": {
      "needs_background": "light"
     },
     "output_type": "display_data"
    }
   ],
   "source": [
    "from scipy.stats import norm\n",
    "\n",
    "fig, ax = plt.subplots(1, 1)\n",
    "mean, var, skew, kurt = norm.stats(moments='mvsk')\n",
    "x = np.linspace(norm.ppf(0.01), norm.ppf(0.99), 100)\n",
    "ax.plot(x, norm.pdf(x), 'b-', lw=5, alpha=0.6, label='norm pdf')\n",
    "rv = norm()\n",
    "ax.plot(x, rv.pdf(x), 'k-', lw=2, label='frozen pdf')\n",
    "vals = norm.ppf([0.001, 0.5, 0.999])\n",
    "np.allclose([0.001, 0.5, 0.999], norm.cdf(vals))\n",
    "r = norm.rvs(size=1000)\n",
    "plt.show()"
   ]
  },
  {
   "cell_type": "markdown",
   "id": "bound-occurrence",
   "metadata": {},
   "source": [
    "##### Student's T Distribution"
   ]
  },
  {
   "cell_type": "markdown",
   "id": "vulnerable-campbell",
   "metadata": {},
   "source": []
  },
  {
   "cell_type": "code",
   "execution_count": null,
   "id": "absolute-determination",
   "metadata": {},
   "outputs": [],
   "source": []
  },
  {
   "cell_type": "markdown",
   "id": "beginning-internship",
   "metadata": {},
   "source": [
    "##### Chi-Squared Distribution"
   ]
  },
  {
   "cell_type": "markdown",
   "id": "tutorial-spank",
   "metadata": {},
   "source": []
  },
  {
   "cell_type": "code",
   "execution_count": null,
   "id": "bored-suicide",
   "metadata": {},
   "outputs": [],
   "source": []
  },
  {
   "cell_type": "markdown",
   "id": "comparable-italian",
   "metadata": {},
   "source": [
    "##### Exponential Distribution"
   ]
  },
  {
   "cell_type": "markdown",
   "id": "medical-logan",
   "metadata": {},
   "source": []
  },
  {
   "cell_type": "code",
   "execution_count": null,
   "id": "nonprofit-desert",
   "metadata": {},
   "outputs": [],
   "source": []
  },
  {
   "cell_type": "markdown",
   "id": "liquid-battlefield",
   "metadata": {},
   "source": [
    "##### Logistic Distribution"
   ]
  },
  {
   "cell_type": "markdown",
   "id": "dated-commodity",
   "metadata": {},
   "source": []
  },
  {
   "cell_type": "code",
   "execution_count": null,
   "id": "mineral-frederick",
   "metadata": {},
   "outputs": [],
   "source": []
  },
  {
   "cell_type": "markdown",
   "id": "smooth-costume",
   "metadata": {},
   "source": [
    "# Part 3) Summary Stats\n",
    "\n",
    "For this section, you will need to use Google and ask questions."
   ]
  },
  {
   "cell_type": "markdown",
   "id": "dense-pendant",
   "metadata": {},
   "source": [
    "#### Q3.1)\n",
    "When should you use mean vs. median?"
   ]
  },
  {
   "cell_type": "markdown",
   "id": "elder-michael",
   "metadata": {},
   "source": []
  },
  {
   "cell_type": "markdown",
   "id": "severe-facial",
   "metadata": {},
   "source": [
    "#### Q3.2)\n",
    "What is the standard deviation and variance?"
   ]
  },
  {
   "cell_type": "markdown",
   "id": "plastic-impact",
   "metadata": {},
   "source": []
  },
  {
   "cell_type": "markdown",
   "id": "temporal-lawrence",
   "metadata": {},
   "source": [
    "#### Q3.3)\n",
    "\n",
    "Describe the tradeoffs between providing the standard deviation/variance vs. the 5-number summary. "
   ]
  },
  {
   "cell_type": "markdown",
   "id": "lined-immunology",
   "metadata": {},
   "source": []
  },
  {
   "cell_type": "markdown",
   "id": "powered-appearance",
   "metadata": {},
   "source": [
    "#### Q3.4)\n",
    "\n",
    "What is skew? Can a skewed dataset still be normally distributed?"
   ]
  },
  {
   "cell_type": "markdown",
   "id": "impressed-greenhouse",
   "metadata": {},
   "source": []
  },
  {
   "cell_type": "markdown",
   "id": "double-barcelona",
   "metadata": {},
   "source": [
    "#### Q3.5)\n",
    "What is a frequency table? How is it useful for describing data?"
   ]
  },
  {
   "cell_type": "code",
   "execution_count": null,
   "id": "ancient-customer",
   "metadata": {},
   "outputs": [],
   "source": []
  },
  {
   "cell_type": "markdown",
   "id": "proof-disco",
   "metadata": {},
   "source": [
    "#### Q3.6)\n",
    "\n",
    "Observe the data shown below and classify each column shown below as either: nominal, binary, ordinal, or quantitative."
   ]
  },
  {
   "cell_type": "code",
   "execution_count": 86,
   "id": "known-cosmetic",
   "metadata": {},
   "outputs": [
    {
     "data": {
      "text/html": [
       "<div>\n",
       "<style scoped>\n",
       "    .dataframe tbody tr th:only-of-type {\n",
       "        vertical-align: middle;\n",
       "    }\n",
       "\n",
       "    .dataframe tbody tr th {\n",
       "        vertical-align: top;\n",
       "    }\n",
       "\n",
       "    .dataframe thead th {\n",
       "        text-align: right;\n",
       "    }\n",
       "</style>\n",
       "<table border=\"1\" class=\"dataframe\">\n",
       "  <thead>\n",
       "    <tr style=\"text-align: right;\">\n",
       "      <th></th>\n",
       "      <th>id</th>\n",
       "      <th>material</th>\n",
       "      <th>name</th>\n",
       "      <th>development.phase</th>\n",
       "      <th>location.city</th>\n",
       "      <th>location.latitude</th>\n",
       "      <th>location.longitude</th>\n",
       "      <th>statistics.height</th>\n",
       "      <th>tall?</th>\n",
       "    </tr>\n",
       "  </thead>\n",
       "  <tbody>\n",
       "    <tr>\n",
       "      <th>0</th>\n",
       "      <td>12</td>\n",
       "      <td>steel</td>\n",
       "      <td>The Illinois</td>\n",
       "      <td>1</td>\n",
       "      <td>Chicago</td>\n",
       "      <td>0.000000</td>\n",
       "      <td>0.000000</td>\n",
       "      <td>1609.359985</td>\n",
       "      <td>True</td>\n",
       "    </tr>\n",
       "    <tr>\n",
       "      <th>1</th>\n",
       "      <td>62</td>\n",
       "      <td>composite</td>\n",
       "      <td>Chicago Spire</td>\n",
       "      <td>2</td>\n",
       "      <td>Chicago</td>\n",
       "      <td>41.889889</td>\n",
       "      <td>-87.614861</td>\n",
       "      <td>609.599976</td>\n",
       "      <td>True</td>\n",
       "    </tr>\n",
       "    <tr>\n",
       "      <th>2</th>\n",
       "      <td>68</td>\n",
       "      <td>composite</td>\n",
       "      <td>Miglin-Beitler Skyneedle</td>\n",
       "      <td>1</td>\n",
       "      <td>Chicago</td>\n",
       "      <td>41.881618</td>\n",
       "      <td>-87.634354</td>\n",
       "      <td>609.489990</td>\n",
       "      <td>True</td>\n",
       "    </tr>\n",
       "    <tr>\n",
       "      <th>3</th>\n",
       "      <td>98</td>\n",
       "      <td>composite</td>\n",
       "      <td>One World Trade Center</td>\n",
       "      <td>3</td>\n",
       "      <td>New York City</td>\n",
       "      <td>40.713112</td>\n",
       "      <td>-74.013351</td>\n",
       "      <td>541.299988</td>\n",
       "      <td>True</td>\n",
       "    </tr>\n",
       "    <tr>\n",
       "      <th>4</th>\n",
       "      <td>14269</td>\n",
       "      <td>concrete</td>\n",
       "      <td>Central Park Tower</td>\n",
       "      <td>2</td>\n",
       "      <td>New York City</td>\n",
       "      <td>40.766361</td>\n",
       "      <td>-73.980949</td>\n",
       "      <td>541.020020</td>\n",
       "      <td>True</td>\n",
       "    </tr>\n",
       "  </tbody>\n",
       "</table>\n",
       "</div>"
      ],
      "text/plain": [
       "      id   material                      name  development.phase  \\\n",
       "0     12      steel              The Illinois                  1   \n",
       "1     62  composite             Chicago Spire                  2   \n",
       "2     68  composite  Miglin-Beitler Skyneedle                  1   \n",
       "3     98  composite    One World Trade Center                  3   \n",
       "4  14269   concrete        Central Park Tower                  2   \n",
       "\n",
       "   location.city  location.latitude  location.longitude  statistics.height  \\\n",
       "0        Chicago           0.000000            0.000000        1609.359985   \n",
       "1        Chicago          41.889889          -87.614861         609.599976   \n",
       "2        Chicago          41.881618          -87.634354         609.489990   \n",
       "3  New York City          40.713112          -74.013351         541.299988   \n",
       "4  New York City          40.766361          -73.980949         541.020020   \n",
       "\n",
       "   tall?  \n",
       "0   True  \n",
       "1   True  \n",
       "2   True  \n",
       "3   True  \n",
       "4   True  "
      ]
     },
     "execution_count": 86,
     "metadata": {},
     "output_type": "execute_result"
    }
   ],
   "source": [
    "skyscrapers_full = pd.read_csv(\"https://corgis-edu.github.io/corgis/datasets/csv/skyscrapers/skyscrapers.csv\")\n",
    "# You can ignore how we calculate the fields, though it might help you understand it better\n",
    "skyscrapers_full['tall?'] = skyscrapers_full['statistics.height'] > 100\n",
    "skyscrapers_full['development.phase'] = skyscrapers_full['status.current'].map(lambda s: 3 if s in ('completed', 'demolished')\n",
    "                                                                                         else 1 if s in ('proposed', 'vision')\n",
    "                                                                                         else 2)\n",
    "skyscrapers = skyscrapers_full[['id', 'material', 'name', 'development.phase',\n",
    "                                'location.city', 'location.latitude', 'location.longitude',\n",
    "                                'statistics.height', 'tall?']]\n",
    "skyscrapers.head()"
   ]
  },
  {
   "cell_type": "markdown",
   "id": "retained-aggregate",
   "metadata": {},
   "source": [
    "* `id`: \n",
    "* `material`: \n",
    "* `name`: \n",
    "* `development.phase`: \n",
    "* `location.city`: \n",
    "* `location.latitude`: \n",
    "* `location.longitude`: \n",
    "* `statistics.height`: \n",
    "* `tall?`: "
   ]
  },
  {
   "cell_type": "markdown",
   "id": "north-engine",
   "metadata": {},
   "source": [
    "#### Q3.7)\n",
    "\n",
    "For each column in the dataset above, provide appropriate summary statistics in whatever way makes the most sense to concisely describe the data."
   ]
  },
  {
   "cell_type": "code",
   "execution_count": 87,
   "id": "verified-sound",
   "metadata": {},
   "outputs": [
    {
     "name": "stdout",
     "output_type": "stream",
     "text": [
      "ID:\n",
      "Material:\n",
      "Name:\n",
      "Development Phase:\n",
      "Location (City):\n",
      "Location (Latitude):\n",
      "Location (Longitude):\n",
      "Height:\n",
      "Tall Buildings:\n"
     ]
    }
   ],
   "source": [
    "print(\"ID:\")\n",
    "\n",
    "\n",
    "print(\"Material:\")\n",
    "\n",
    "\n",
    "print(\"Name:\")\n",
    "\n",
    "\n",
    "print(\"Development Phase:\")\n",
    "\n",
    "\n",
    "print(\"Location (City):\")\n",
    "\n",
    "\n",
    "print(\"Location (Latitude):\")\n",
    "\n",
    "\n",
    "print(\"Location (Longitude):\")\n",
    "\n",
    "\n",
    "print(\"Height:\")\n",
    "\n",
    "\n",
    "print(\"Tall Buildings:\")"
   ]
  },
  {
   "cell_type": "markdown",
   "id": "wrong-particular",
   "metadata": {},
   "source": [
    "#### Q3.8)\n",
    "\n",
    "Classify each of the following scenarios as \"paired\" or \"unpaired\" data.\n",
    "\n",
    "1. We draw two random samples from the complete set of skyscrapers. Both samples have 100 skyscrapers."
   ]
  },
  {
   "cell_type": "markdown",
   "id": "fossil-actor",
   "metadata": {},
   "source": []
  },
  {
   "cell_type": "markdown",
   "id": "honey-cloud",
   "metadata": {},
   "source": [
    "2. We collect a new version of the dataset, updating the `\"development.phase\"` value in order to compare it to the old value."
   ]
  },
  {
   "cell_type": "markdown",
   "id": "union-universe",
   "metadata": {},
   "source": []
  },
  {
   "cell_type": "markdown",
   "id": "crude-movement",
   "metadata": {},
   "source": [
    "3. We collect data about the architectures of each building, in order to see if there a relationship between the builder's age and the height of the building."
   ]
  },
  {
   "cell_type": "markdown",
   "id": "surgical-length",
   "metadata": {},
   "source": []
  },
  {
   "cell_type": "markdown",
   "id": "apparent-collection",
   "metadata": {},
   "source": [
    "# Part 4) Normality Checks"
   ]
  },
  {
   "cell_type": "markdown",
   "id": "scheduled-equity",
   "metadata": {},
   "source": [
    "Read the following page about normality tests:\n",
    "\n",
    "https://machinelearningmastery.com/a-gentle-introduction-to-normality-tests-in-python/\n"
   ]
  },
  {
   "cell_type": "markdown",
   "id": "unique-heart",
   "metadata": {},
   "source": [
    "#### Q4.1)\n",
    "\n",
    "Some skyscrapers are much taller than most skyscrapers. Demonstrate this by creating a Histogram of that data."
   ]
  },
  {
   "cell_type": "code",
   "execution_count": null,
   "id": "scientific-thermal",
   "metadata": {},
   "outputs": [],
   "source": [
    "skyscrapers['statistics.height']\n",
    "# ..."
   ]
  },
  {
   "cell_type": "markdown",
   "id": "shared-garlic",
   "metadata": {},
   "source": [
    "#### Q4.2)\n",
    "\n",
    "Logarithmic transformations are often used in situations like this to make the visualizations easier to read.\n",
    "Why?"
   ]
  },
  {
   "cell_type": "markdown",
   "id": "sticky-permit",
   "metadata": {},
   "source": []
  },
  {
   "cell_type": "markdown",
   "id": "muslim-portsmouth",
   "metadata": {},
   "source": [
    "#### Q4.3)\n",
    "\n",
    "Create a new version of your visualization that is log transformed, by manipulating the data.\n",
    "\n",
    "Hints:\n",
    "* You might find it helpful to increase the number of bins in the final version to produce a nicer looking graph.\n",
    "* Some of the data is dirty - remove zeroes!"
   ]
  },
  {
   "cell_type": "code",
   "execution_count": null,
   "id": "processed-handbook",
   "metadata": {},
   "outputs": [],
   "source": []
  },
  {
   "cell_type": "markdown",
   "id": "brave-efficiency",
   "metadata": {},
   "source": [
    "#### Q4.4)\n",
    "\n",
    "We wish to know if the data is now normally distributed. You can use a Shapiro Wilks test in `scipy.stats` to determine if a distribution is normal. This is demonstrated below."
   ]
  },
  {
   "cell_type": "code",
   "execution_count": 125,
   "id": "working-clause",
   "metadata": {},
   "outputs": [
    {
     "data": {
      "image/png": "[encoded data removed]",
      "text/plain": [
       "<Figure size 432x288 with 1 Axes>"
      ]
     },
     "metadata": {
      "needs_background": "light"
     },
     "output_type": "display_data"
    },
    {
     "name": "stdout",
     "output_type": "stream",
     "text": [
      "Normally Distributed Values: 0.9873840808868408 0.4639612138271332 False\n",
      "Since the pvalue is greater than 0.05, we accept the null hypothesis that it is normally distributed.\n"
     ]
    },
    {
     "data": {
      "image/png": "[encoded data removed]",
      "text/plain": [
       "<Figure size 432x288 with 1 Axes>"
      ]
     },
     "metadata": {
      "needs_background": "light"
     },
     "output_type": "display_data"
    },
    {
     "name": "stdout",
     "output_type": "stream",
     "text": [
      "Random Values: 0.9455756545066833 0.0004289667122066021 True\n",
      "Since the pvalue is less than 0.05, we reject the null hypothesis that it is normally distributed.\n"
     ]
    }
   ],
   "source": [
    "# Mean of 50, standard deviation of 10, create 100 numbers\n",
    "normal_values = stats.norm.rvs(loc=50, scale=10, size=100)\n",
    "plt.hist(normal_values)\n",
    "plt.title(\"Normal Distribution with Mean of 50\")\n",
    "plt.ylabel(\"Frequency\")\n",
    "plt.show()\n",
    "\n",
    "test_statistic, p_value = stats.shapiro(normal_values)\n",
    "print(\"Normally Distributed Values:\", test_statistic, p_value, p_value < .05)\n",
    "print(\"Since the pvalue is greater than 0.05, we accept the null hypothesis that it is normally distributed.\")\n",
    "\n",
    "# Mean of 50, standard deviation of 10, create 100 numbers\n",
    "normal_values = stats.randint.rvs(low=0, high=100, size=100)\n",
    "plt.hist(normal_values)\n",
    "plt.title(\"Random Distribution\")\n",
    "plt.ylabel(\"Frequency\")\n",
    "plt.show()\n",
    "\n",
    "test_statistic, p_value = stats.shapiro(normal_values)\n",
    "print(\"Random Values:\", test_statistic, p_value, p_value < .05)\n",
    "print(\"Since the pvalue is less than 0.05, we reject the null hypothesis that it is normally distributed.\")"
   ]
  },
  {
   "cell_type": "markdown",
   "id": "modular-function",
   "metadata": {},
   "source": [
    "Building off our example, determine if:\n",
    "\n",
    "1. The original untransformed heights follow a normal distribution.\n",
    "2. The log-transformed heights follow a normal distribution.\n",
    "\n",
    "Be sure to use an appropriate test."
   ]
  },
  {
   "cell_type": "code",
   "execution_count": null,
   "id": "dedicated-quebec",
   "metadata": {},
   "outputs": [],
   "source": []
  },
  {
   "cell_type": "markdown",
   "id": "three-algebra",
   "metadata": {},
   "source": [
    "#### Q4.5)\n",
    "\n",
    "Would it be appropriate to use parameteric statistics on this data?"
   ]
  },
  {
   "cell_type": "markdown",
   "id": "nuclear-duncan",
   "metadata": {},
   "source": []
  },
  {
   "cell_type": "markdown",
   "id": "explicit-bubble",
   "metadata": {},
   "source": [
    "# Part 5) Correlation Analysis\n",
    "\n",
    "Read over the following page: https://www.ncbi.nlm.nih.gov/pmc/articles/PMC2996580/"
   ]
  },
  {
   "cell_type": "markdown",
   "id": "robust-impact",
   "metadata": {},
   "source": [
    "#### Q5.1)\n",
    "\n",
    "In your own words, define the following terms:\n",
    "\n",
    "1) Hypothesis"
   ]
  },
  {
   "cell_type": "markdown",
   "id": "intense-method",
   "metadata": {},
   "source": []
  },
  {
   "cell_type": "markdown",
   "id": "postal-aruba",
   "metadata": {},
   "source": [
    "2) Hypothesis Test"
   ]
  },
  {
   "cell_type": "markdown",
   "id": "acquired-doubt",
   "metadata": {},
   "source": []
  },
  {
   "cell_type": "markdown",
   "id": "compact-performance",
   "metadata": {},
   "source": [
    "3) P-value"
   ]
  },
  {
   "cell_type": "markdown",
   "id": "distributed-myanmar",
   "metadata": {},
   "source": []
  },
  {
   "cell_type": "markdown",
   "id": "naked-population",
   "metadata": {},
   "source": [
    "4) Null Hypothesis"
   ]
  },
  {
   "cell_type": "markdown",
   "id": "animated-making",
   "metadata": {},
   "source": []
  },
  {
   "cell_type": "markdown",
   "id": "romance-rachel",
   "metadata": {},
   "source": [
    "5. \"Approaching Significance\" (read over [this webpage](https://mchankins.wordpress.com/2013/04/21/still-not-significant-2/))"
   ]
  },
  {
   "cell_type": "markdown",
   "id": "retained-nerve",
   "metadata": {},
   "source": []
  },
  {
   "cell_type": "markdown",
   "id": "classified-coating",
   "metadata": {},
   "source": [
    "#### Q5.2)\n",
    "\n",
    "Make a list of all the criteria you should consider when choosing an appropriate statistical test.\n",
    "Additionally, embed a flowchart that can help visually demonstrate the critiera you should use."
   ]
  },
  {
   "cell_type": "markdown",
   "id": "ecological-devon",
   "metadata": {},
   "source": [
    "1. \n",
    "2.\n",
    "3.\n",
    "\n",
    "..."
   ]
  },
  {
   "cell_type": "markdown",
   "id": "proved-punishment",
   "metadata": {},
   "source": [
    "#### Q5.3)\n",
    "\n",
    "For each of the following statistical test functions from `scipy`, provide the following information:\n",
    "\n",
    "* Function: The name of the function in Scipy\n",
    "* Link: The URL to the documentation of the test.\n",
    "* Test: A more human-readable name of the test\n",
    "* Description: A quick one-sentence description of the test indicating clearly what it is used for\n",
    "* Assumptions: A list of any assumptions made by the test.\n",
    "* Example: An example of how you might use this test"
   ]
  },
  {
   "cell_type": "markdown",
   "id": "divided-technique",
   "metadata": {},
   "source": [
    "##### f_oneway\n",
    "\n",
    "* Function: `f_oneway`\n",
    "* Link: https://docs.scipy.org/doc/scipy/reference/generated/scipy.stats.f_oneway.html\n",
    "* Test: One-way ANOVA\n",
    "* Description: A parametric test for 2+ independent samples to determine if they have the same population mean. \n",
    "* Assumptions:\n",
    "    * Samples must be independent\n",
    "    * Population is normally distributed\n",
    "    * Populations' standard deviations are equal\n",
    "* Example: Take a big group of students, break them up by gender, and see if their heights differ by gender."
   ]
  },
  {
   "cell_type": "markdown",
   "id": "removed-namibia",
   "metadata": {},
   "source": [
    "##### pearsonr\n",
    "\n",
    "* Function:\n",
    "* Link:\n",
    "* Test:\n",
    "* Description:\n",
    "* Assumptions:\n",
    "* Example:"
   ]
  },
  {
   "cell_type": "markdown",
   "id": "persistent-symbol",
   "metadata": {},
   "source": [
    "##### spearmanr\n",
    "\n",
    "* Function:\n",
    "* Link:\n",
    "* Test:\n",
    "* Description:\n",
    "* Assumptions:\n",
    "* Example:"
   ]
  },
  {
   "cell_type": "markdown",
   "id": "alien-escape",
   "metadata": {},
   "source": [
    "##### pointbiseralr\n",
    "\n",
    "* Function:\n",
    "* Link:\n",
    "* Test:\n",
    "* Description:\n",
    "* Assumptions:\n",
    "* Example:"
   ]
  },
  {
   "cell_type": "markdown",
   "id": "dedicated-ecuador",
   "metadata": {},
   "source": [
    "##### kendalltau\n",
    "\n",
    "* Function:\n",
    "* Link:\n",
    "* Test:\n",
    "* Description:\n",
    "* Assumptions:\n",
    "* Example:"
   ]
  },
  {
   "cell_type": "markdown",
   "id": "helpful-millennium",
   "metadata": {},
   "source": [
    "##### ttest_1samp\n",
    "\n",
    "* Function:\n",
    "* Link:\n",
    "* Test:\n",
    "* Description:\n",
    "* Assumptions:\n",
    "* Example:"
   ]
  },
  {
   "cell_type": "markdown",
   "id": "everyday-seventh",
   "metadata": {},
   "source": [
    "##### ttest_ind\n",
    "\n",
    "* Function:\n",
    "* Link:\n",
    "* Test:\n",
    "* Description:\n",
    "* Assumptions:\n",
    "* Example:"
   ]
  },
  {
   "cell_type": "markdown",
   "id": "accomplished-throw",
   "metadata": {},
   "source": [
    "##### ttest_rel\n",
    "\n",
    "* Function:\n",
    "* Link:\n",
    "* Test:\n",
    "* Description:\n",
    "* Assumptions:\n",
    "* Example:"
   ]
  },
  {
   "cell_type": "markdown",
   "id": "searching-gabriel",
   "metadata": {},
   "source": [
    "##### chisquare\n",
    "\n",
    "* Function:\n",
    "* Link:\n",
    "* Test:\n",
    "* Description:\n",
    "* Assumptions:\n",
    "* Example:"
   ]
  },
  {
   "cell_type": "markdown",
   "id": "destroyed-colony",
   "metadata": {},
   "source": [
    "##### mannwhitneyu\n",
    "\n",
    "* Function:\n",
    "* Link:\n",
    "* Test:\n",
    "* Description:\n",
    "* Assumptions:\n",
    "* Example:"
   ]
  },
  {
   "cell_type": "markdown",
   "id": "needed-chase",
   "metadata": {},
   "source": [
    "##### kstest\n",
    "\n",
    "* Function:\n",
    "* Link:\n",
    "* Test:\n",
    "* Description:\n",
    "* Assumptions:\n",
    "* Example:"
   ]
  },
  {
   "cell_type": "markdown",
   "id": "extensive-narrative",
   "metadata": {},
   "source": [
    "##### wilcoxon\n",
    "\n",
    "* Function:\n",
    "* Link:\n",
    "* Test:\n",
    "* Description:\n",
    "* Assumptions:\n",
    "* Example:"
   ]
  },
  {
   "cell_type": "markdown",
   "id": "respected-visit",
   "metadata": {},
   "source": [
    "##### kruskal\n",
    "\n",
    "* Function:\n",
    "* Link:\n",
    "* Test:\n",
    "* Description:\n",
    "* Assumptions:\n",
    "* Example:"
   ]
  },
  {
   "cell_type": "markdown",
   "id": "american-jimmy",
   "metadata": {},
   "source": [
    "#### Q5.4)"
   ]
  },
  {
   "cell_type": "markdown",
   "id": "affecting-prague",
   "metadata": {},
   "source": [
    "For each scenario below, identify what test you might choose.\n",
    "\n",
    "1. If we wished to test whether there was any association between Gender and uptake of Flu vaccination which would be the best test to choose?"
   ]
  },
  {
   "cell_type": "markdown",
   "id": "accessory-petroleum",
   "metadata": {},
   "source": []
  },
  {
   "cell_type": "markdown",
   "id": "identical-creation",
   "metadata": {},
   "source": [
    "2. If we wished to test if there was a difference between the gestational age of babies at birth (how far along the pregnancy is, in weeks) and the use of a nutritional supplement by their mothers during pregnancy which would be the best test to choose?"
   ]
  },
  {
   "cell_type": "markdown",
   "id": "theoretical-compensation",
   "metadata": {},
   "source": []
  },
  {
   "cell_type": "markdown",
   "id": "contemporary-danish",
   "metadata": {},
   "source": [
    "3. The cotinine level was measured in women at the beginning and end of their pregnancy. The change in cotinine was presented on a Log scale. Which would be the best test to use to see if there had been a change in cotinine level during pregnancy?"
   ]
  },
  {
   "cell_type": "markdown",
   "id": "active-circulation",
   "metadata": {},
   "source": []
  },
  {
   "cell_type": "markdown",
   "id": "pretty-muscle",
   "metadata": {},
   "source": [
    "4. If we wished to estimate the strength of the linear relationship between the weight of a mother and the weight of her baby at birth which would be the best test to choose?"
   ]
  },
  {
   "cell_type": "markdown",
   "id": "canadian-cream",
   "metadata": {},
   "source": []
  },
  {
   "cell_type": "markdown",
   "id": "valued-software",
   "metadata": {},
   "source": [
    "5. The pre-operative and post-operative anxiety levels of adolescent patients undergoing orthopaedic surgery were measured using the State-Trait Anxiety Inventory STAI scale. The authors reported the pre-operative anxiety levels as mean = 33.8 (SD = 5.1) and post-operative anxiety levels as mean = 38.8 (SD = 7.2). They also performed a Shapiro-Wilks Test demonstrating that the data is normal. Which would have been the most appropriate test to assess the relationship between pre and post operative anxiety?"
   ]
  },
  {
   "cell_type": "markdown",
   "id": "skilled-vertical",
   "metadata": {},
   "source": []
  },
  {
   "cell_type": "markdown",
   "id": "atmospheric-franchise",
   "metadata": {},
   "source": [
    "6. Salaries in the United States are heavily skewed. If you were investigating salaries between Software Engineers and non-Software Engineers, which test would be most appropriate?"
   ]
  },
  {
   "cell_type": "markdown",
   "id": "artistic-smith",
   "metadata": {},
   "source": []
  },
  {
   "cell_type": "markdown",
   "id": "animated-journalism",
   "metadata": {},
   "source": [
    "7. As previously mentioned, salaries in the United States are heavily skewed. You conduct a survey of 100 folks (selected completely at random from the US), asking their salary and their \"satisfaction their salary\" with the possible responses \"Very Happy\", \"Happy\", \"Neutral\", \"Unhappy\", and \"Very Unhappy\". What test could you use to determine the relationship between these two values?"
   ]
  },
  {
   "cell_type": "markdown",
   "id": "broke-essex",
   "metadata": {},
   "source": []
  },
  {
   "cell_type": "markdown",
   "id": "competitive-student",
   "metadata": {},
   "source": [
    "8. It is 2022, and the revolution has begun. It is chaos in the streets, and societal upheaval is everywhere. Strangely, you are more interested in doing data science, and are now investigating whether salaries are still skewed. You go back to the 100 folks you talked to previously, and ask them for their new salary data. What test can help you determine if there is a change?"
   ]
  },
  {
   "cell_type": "markdown",
   "id": "outdoor-calvin",
   "metadata": {},
   "source": []
  },
  {
   "cell_type": "markdown",
   "id": "approved-whale",
   "metadata": {},
   "source": [
    "#### Q5.5)\n",
    "\n",
    "Recall the skyscrapers data we looked at before."
   ]
  },
  {
   "cell_type": "code",
   "execution_count": 150,
   "id": "individual-employer",
   "metadata": {},
   "outputs": [
    {
     "data": {
      "text/html": [
       "<div>\n",
       "<style scoped>\n",
       "    .dataframe tbody tr th:only-of-type {\n",
       "        vertical-align: middle;\n",
       "    }\n",
       "\n",
       "    .dataframe tbody tr th {\n",
       "        vertical-align: top;\n",
       "    }\n",
       "\n",
       "    .dataframe thead th {\n",
       "        text-align: right;\n",
       "    }\n",
       "</style>\n",
       "<table border=\"1\" class=\"dataframe\">\n",
       "  <thead>\n",
       "    <tr style=\"text-align: right;\">\n",
       "      <th></th>\n",
       "      <th>id</th>\n",
       "      <th>material</th>\n",
       "      <th>name</th>\n",
       "      <th>development.phase</th>\n",
       "      <th>location.city</th>\n",
       "      <th>location.latitude</th>\n",
       "      <th>location.longitude</th>\n",
       "      <th>statistics.height</th>\n",
       "      <th>tall?</th>\n",
       "    </tr>\n",
       "  </thead>\n",
       "  <tbody>\n",
       "    <tr>\n",
       "      <th>0</th>\n",
       "      <td>12</td>\n",
       "      <td>steel</td>\n",
       "      <td>The Illinois</td>\n",
       "      <td>1</td>\n",
       "      <td>Chicago</td>\n",
       "      <td>0.000000</td>\n",
       "      <td>0.000000</td>\n",
       "      <td>1609.359985</td>\n",
       "      <td>True</td>\n",
       "    </tr>\n",
       "    <tr>\n",
       "      <th>1</th>\n",
       "      <td>62</td>\n",
       "      <td>composite</td>\n",
       "      <td>Chicago Spire</td>\n",
       "      <td>2</td>\n",
       "      <td>Chicago</td>\n",
       "      <td>41.889889</td>\n",
       "      <td>-87.614861</td>\n",
       "      <td>609.599976</td>\n",
       "      <td>True</td>\n",
       "    </tr>\n",
       "    <tr>\n",
       "      <th>2</th>\n",
       "      <td>68</td>\n",
       "      <td>composite</td>\n",
       "      <td>Miglin-Beitler Skyneedle</td>\n",
       "      <td>1</td>\n",
       "      <td>Chicago</td>\n",
       "      <td>41.881618</td>\n",
       "      <td>-87.634354</td>\n",
       "      <td>609.489990</td>\n",
       "      <td>True</td>\n",
       "    </tr>\n",
       "    <tr>\n",
       "      <th>3</th>\n",
       "      <td>98</td>\n",
       "      <td>composite</td>\n",
       "      <td>One World Trade Center</td>\n",
       "      <td>3</td>\n",
       "      <td>New York City</td>\n",
       "      <td>40.713112</td>\n",
       "      <td>-74.013351</td>\n",
       "      <td>541.299988</td>\n",
       "      <td>True</td>\n",
       "    </tr>\n",
       "    <tr>\n",
       "      <th>4</th>\n",
       "      <td>14269</td>\n",
       "      <td>concrete</td>\n",
       "      <td>Central Park Tower</td>\n",
       "      <td>2</td>\n",
       "      <td>New York City</td>\n",
       "      <td>40.766361</td>\n",
       "      <td>-73.980949</td>\n",
       "      <td>541.020020</td>\n",
       "      <td>True</td>\n",
       "    </tr>\n",
       "  </tbody>\n",
       "</table>\n",
       "</div>"
      ],
      "text/plain": [
       "      id   material                      name  development.phase  \\\n",
       "0     12      steel              The Illinois                  1   \n",
       "1     62  composite             Chicago Spire                  2   \n",
       "2     68  composite  Miglin-Beitler Skyneedle                  1   \n",
       "3     98  composite    One World Trade Center                  3   \n",
       "4  14269   concrete        Central Park Tower                  2   \n",
       "\n",
       "   location.city  location.latitude  location.longitude  statistics.height  \\\n",
       "0        Chicago           0.000000            0.000000        1609.359985   \n",
       "1        Chicago          41.889889          -87.614861         609.599976   \n",
       "2        Chicago          41.881618          -87.634354         609.489990   \n",
       "3  New York City          40.713112          -74.013351         541.299988   \n",
       "4  New York City          40.766361          -73.980949         541.020020   \n",
       "\n",
       "   tall?  \n",
       "0   True  \n",
       "1   True  \n",
       "2   True  \n",
       "3   True  \n",
       "4   True  "
      ]
     },
     "execution_count": 150,
     "metadata": {},
     "output_type": "execute_result"
    }
   ],
   "source": [
    "skyscrapers.head()"
   ]
  },
  {
   "cell_type": "markdown",
   "id": "medieval-tucson",
   "metadata": {},
   "source": [
    "Is there a relationship between a Skyscrapers latitude and height?"
   ]
  },
  {
   "cell_type": "code",
   "execution_count": null,
   "id": "super-zealand",
   "metadata": {},
   "outputs": [],
   "source": []
  },
  {
   "cell_type": "markdown",
   "id": "thousand-facility",
   "metadata": {},
   "source": [
    "Are `New York City` skyscrapers bigger than `Chicago` skyscrapers?"
   ]
  },
  {
   "cell_type": "code",
   "execution_count": null,
   "id": "satisfied-times",
   "metadata": {},
   "outputs": [],
   "source": []
  },
  {
   "cell_type": "markdown",
   "id": "racial-scientist",
   "metadata": {},
   "source": [
    "In the dataset, completed skyscrapers are phase 3, in-progress skyscrapers are phase 2, and not-started skyscrapers are phase 1.\n",
    "Considering only skyscrapers made with concrete and steel, is there a difference in the distribution of the different development phases between the two materials? "
   ]
  },
  {
   "cell_type": "code",
   "execution_count": 157,
   "id": "major-merchandise",
   "metadata": {},
   "outputs": [
    {
     "data": {
      "text/html": [
       "<div>\n",
       "<style scoped>\n",
       "    .dataframe tbody tr th:only-of-type {\n",
       "        vertical-align: middle;\n",
       "    }\n",
       "\n",
       "    .dataframe tbody tr th {\n",
       "        vertical-align: top;\n",
       "    }\n",
       "\n",
       "    .dataframe thead th {\n",
       "        text-align: right;\n",
       "    }\n",
       "</style>\n",
       "<table border=\"1\" class=\"dataframe\">\n",
       "  <thead>\n",
       "    <tr style=\"text-align: right;\">\n",
       "      <th>development.phase</th>\n",
       "      <th>1</th>\n",
       "      <th>2</th>\n",
       "      <th>3</th>\n",
       "    </tr>\n",
       "    <tr>\n",
       "      <th>material</th>\n",
       "      <th></th>\n",
       "      <th></th>\n",
       "      <th></th>\n",
       "    </tr>\n",
       "  </thead>\n",
       "  <tbody>\n",
       "    <tr>\n",
       "      <th>concrete</th>\n",
       "      <td>99</td>\n",
       "      <td>162</td>\n",
       "      <td>1105</td>\n",
       "    </tr>\n",
       "    <tr>\n",
       "      <th>steel</th>\n",
       "      <td>9</td>\n",
       "      <td>10</td>\n",
       "      <td>856</td>\n",
       "    </tr>\n",
       "  </tbody>\n",
       "</table>\n",
       "</div>"
      ],
      "text/plain": [
       "development.phase   1    2     3\n",
       "material                        \n",
       "concrete           99  162  1105\n",
       "steel               9   10   856"
      ]
     },
     "execution_count": 157,
     "metadata": {},
     "output_type": "execute_result"
    }
   ],
   "source": []
  },
  {
   "cell_type": "markdown",
   "id": "quiet-perry",
   "metadata": {},
   "source": [
    "# Part 6) Effect Sizes\n",
    "\n",
    "Watch the videos, and answer the questions.\n",
    "\n",
    "https://youtu.be/PyNzbDbjs1Y"
   ]
  },
  {
   "cell_type": "markdown",
   "id": "advised-department",
   "metadata": {},
   "source": [
    "#### Q6.1)\n",
    "\n",
    "Why is it important to present p-values AND effect sizes?"
   ]
  },
  {
   "cell_type": "markdown",
   "id": "particular-david",
   "metadata": {},
   "source": []
  },
  {
   "cell_type": "markdown",
   "id": "friendly-bobby",
   "metadata": {},
   "source": [
    "#### Q6.2)\n",
    "\n",
    "The video briefly suggests some ways to calculate effect size. For each of the following, give a brief explanation:\n"
   ]
  },
  {
   "cell_type": "markdown",
   "id": "retained-angle",
   "metadata": {},
   "source": [
    "* Pearson Correlation: \n",
    "* R Squared: \n",
    "* Cohen's d Effect Size: \n",
    "* Eta Squared:\n",
    "* Odds Ratio:"
   ]
  },
  {
   "cell_type": "markdown",
   "id": "gothic-desire",
   "metadata": {},
   "source": [
    "#### Q6.3)\n",
    "\n",
    "Watch the following video, then answer the question below.\n",
    "\n",
    "https://youtu.be/6uYNVCy-8NA"
   ]
  },
  {
   "cell_type": "markdown",
   "id": "reliable-slope",
   "metadata": {},
   "source": [
    "In the video, the speaker suggests concrete ways to interpret effect sizes. However, Cohen warned about turning effect size numbers into ideas of \"small\", \"medium\", and \"large\". What is dangerous about interpreting effect size values?"
   ]
  },
  {
   "cell_type": "markdown",
   "id": "invisible-router",
   "metadata": {},
   "source": []
  },
  {
   "cell_type": "markdown",
   "id": "passing-kitty",
   "metadata": {},
   "source": [
    "#### Q6.4)\n",
    "\n",
    "Your arch-nemesis stands up and reports, \"In our study, we found a significant difference between the control group and the treatment group. Clearly, my research team deserves more funding.\" You raise your hand to ask a question - what do you ask?"
   ]
  },
  {
   "cell_type": "markdown",
   "id": "baking-powell",
   "metadata": {},
   "source": []
  },
  {
   "cell_type": "markdown",
   "id": "daily-freight",
   "metadata": {},
   "source": [
    "#### Q6.5)\n",
    "\n",
    "Previously, you were asked to calculate whether there was a significant difference between `New York City` and `Chicago` skyscrapers. Now provide a measure of effect size to fully characterize their difference."
   ]
  },
  {
   "cell_type": "code",
   "execution_count": null,
   "id": "innovative-punishment",
   "metadata": {},
   "outputs": [],
   "source": []
  }
 ],
 "metadata": {
  "kernelspec": {
   "display_name": "Python 3",
   "language": "python",
   "name": "python3"
  },
  "language_info": {
   "codemirror_mode": {
    "name": "ipython",
    "version": 3
   },
   "file_extension": ".py",
   "mimetype": "text/x-python",
   "name": "python",
   "nbconvert_exporter": "python",
   "pygments_lexer": "ipython3",
   "version": "3.9.1"
  }
 },
 "nbformat": 4,
 "nbformat_minor": 5
}
