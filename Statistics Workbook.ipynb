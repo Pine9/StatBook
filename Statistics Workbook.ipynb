{
 "cells": [
  {
   "cell_type": "code",
   "execution_count": 1,
   "id": "swiss-louisiana",
   "metadata": {},
   "outputs": [],
   "source": [
    "import random\n",
    "random.seed(0)\n",
    "import pandas as pd\n",
    "import numpy as np\n",
    "np.random.seed(0)\n",
    "from scipy import stats\n",
    "import seaborn as sns\n",
    "import matplotlib.pyplot as plt\n",
    "from IPython.display import YouTubeVideo"
   ]
  },
  {
   "cell_type": "markdown",
   "id": "reported-observation",
   "metadata": {},
   "source": [
    "# Super Statistics\n",
    "\n",
    "This lesson is designed to orient you to statistical thinking and give you practice with Python's statistics library (`scipy`).\n",
    "\n",
    "The assignment will be a mixture of reading informative pages, watching videos, and answering questions. Please do your best and seek help as needed!\n",
    "\n",
    "### Learning Goals\n",
    "\n",
    "By the end of the lesson, students should be able to:\n",
    "\n",
    "* Part 1\n",
    "    * Explain the concept of probability vs. statistics\n",
    "* Part 2\n",
    "    * Generate data using a distribution function from `scipy`\n",
    "* Part 3\n",
    "    * Given a dataset, generate and interpret appropriate summary statistics using `scipy`\n",
    "    * Classify data as continuous, categorical, or binary\n",
    "    * Differentiate between paired and unpaired data\n",
    "    * Apply logarithms to manipulate a distribution\n",
    "* Part 4\n",
    "    * Determine the distribution of a dataset using `scipy`\n",
    "    * Describe and justify the use of parameteric vs. non-parameteric statistics\n",
    "* Part 5\n",
    "    * Create and interpret a statistical hypothesis\n",
    "    * Given a dataset, perform and interpret correlation analysis using `scipy`\n",
    "    * Given a hypothesis and dataset, perform and interpret an appropriate statistical test using `scipy`\n",
    "    * Explain the concept of statistical significance\n",
    "* Part 6\n",
    "    * Describe and explain the purpose of effect sizes\n",
    "    * Calculate an effect size\n",
    "\n",
    "### Caveat\n",
    "\n",
    "I want to start by admitting that I am not as good at statistics as I am at Computer Science. I did distinctly *okay* in my undergraduate statistics class. I would even say that I didn't genuinely learn statistics until I got to graduate school, and had my own datasets. However, that was the turning point - I suddenly understood things so much better when I had a context I cared about. Context is key to learning - I believe statistics is very challenging for many folks because they don't see how it applies to things they are interested in.\n",
    "\n",
    "You might walk into this assignment with more statistics knowledge than me, or alternatively you might be a complete novice. Either way, I'd like to make sure everyone leaves the assignment better than they were. This will probably include me, Dr. Bart. If you identify mistakes or errors, don't be afraid to raise them up in the Discord or the Ohyay. I am only human, this assignment was created in a single day, and I don't have a huge background in statistics. Errors or even misconceptions are likely! I'd rather we all collaboratively improve, then have been right.\n",
    "\n",
    "# Part 1) Basic Statistics\n",
    "\n",
    "Watch the following video, and then answer the following questions below.\n",
    "\n",
    "<https://youtu.be/PufDBlSsqys>"
   ]
  },
  {
   "cell_type": "markdown",
   "id": "floating-fitting",
   "metadata": {},
   "source": [
    "#### Q1.1)\n",
    "What is the difference between probablity and statistics? Define both terms clearly, especially in terms of their different goals."
   ]
  },
  {
   "cell_type": "markdown",
   "id": "advance-prison",
   "metadata": {},
   "source": [
    "Probability is more theoretical (based on a model), whereas statistics deals with experimental data."
   ]
  },
  {
   "cell_type": "markdown",
   "id": "beginning-airfare",
   "metadata": {},
   "source": [
    "# Part 2) Distributions\n",
    "\n",
    "#### Q2.1)\n",
    "\n",
    "In statistics, what is a \"Random Variable\"? How is it different from an Algebraic Variable or a Computer Science Variable?"
   ]
  },
  {
   "cell_type": "markdown",
   "id": "manufactured-microphone",
   "metadata": {},
   "source": [
    "A random variable signifies the probability of something happening. An algebraic or computer science variable is typically calculated as a single value, but a random variable represents a set of several possible outcomes."
   ]
  },
  {
   "cell_type": "markdown",
   "id": "democratic-connectivity",
   "metadata": {},
   "source": [
    "#### Q2.2)\n",
    "In statistics, what is a \"Probability Distribution\"?"
   ]
  },
  {
   "cell_type": "markdown",
   "id": "downtown-concord",
   "metadata": {},
   "source": [
    "A probability distribution is a function that outputs all the possible values that a random variable can have over a certain range."
   ]
  },
  {
   "cell_type": "markdown",
   "id": "clean-antibody",
   "metadata": {},
   "source": [
    "#### Q2.3)\n",
    "\n",
    "In Discrete Math, what is a \"Function\"?"
   ]
  },
  {
   "cell_type": "markdown",
   "id": "surprised-nigeria",
   "metadata": {},
   "source": [
    "A \"function\" x->y in discrete math is the mapping of values in set x to outputs in set y."
   ]
  },
  {
   "cell_type": "markdown",
   "id": "fantastic-luther",
   "metadata": {},
   "source": [
    "#### Q2.4)\n",
    "\n",
    "What is the relationship between a random variable and the concept of a \"nullary function\" like the following?"
   ]
  },
  {
   "cell_type": "code",
   "execution_count": 19,
   "id": "final-joyce",
   "metadata": {},
   "outputs": [
    {
     "data": {
      "text/plain": [
       "[6, 0, 4, 8, 7, 6, 4, 7, 5, 9]"
      ]
     },
     "execution_count": 19,
     "metadata": {},
     "output_type": "execute_result"
    }
   ],
   "source": [
    "def X(): return random.randint(0, 10)\n",
    "\n",
    "[X() for i in range(10)]"
   ]
  },
  {
   "cell_type": "markdown",
   "id": "removable-spokesman",
   "metadata": {},
   "source": [
    "Both the random variable and the nullary function take in no input but can output a range of different values."
   ]
  },
  {
   "cell_type": "markdown",
   "id": "literary-estate",
   "metadata": {},
   "source": [
    "#### Q2.5) \n",
    "What is the relationship between a distribution and a function?"
   ]
  },
  {
   "cell_type": "markdown",
   "id": "tropical-morrison",
   "metadata": {},
   "source": [
    "A distribution is a more specific type of function that represents experimental outcomes."
   ]
  },
  {
   "cell_type": "markdown",
   "id": "hollow-reward",
   "metadata": {},
   "source": [
    "Watch the following video about different probability distributions:\n",
    "\n",
    "<https://youtu.be/b9a27XN_6tg>"
   ]
  },
  {
   "cell_type": "markdown",
   "id": "acknowledged-shore",
   "metadata": {},
   "source": [
    "#### Q2.6)\n",
    "\n",
    "For each of the following probability distributions:\n",
    "\n",
    "1. Provide the name of the distribution\n",
    "2. Identify it as continuous, discrete, or both\n",
    "3. Provide a brief description of the distribution and what it is used for\n",
    "4. Find an example from the real world where this distribution occurs (not one presented in the video)\n",
    "5. Provide a link to the appropriate `scipy.stats` function\n",
    "6. Use the `scipy` module's distribution functions to create an visual example"
   ]
  },
  {
   "cell_type": "markdown",
   "id": "medical-profit",
   "metadata": {},
   "source": [
    "##### Uniform Distribution\n",
    "\n",
    "* Description: A random variable where all of outcomes are equally likely.\n",
    "* Kind: Can be both continuous or discrete\n",
    "* Example: Rolling a fair, six-sided die.\n",
    "* Link: [Continous](https://docs.scipy.org/doc/scipy/reference/generated/scipy.stats.uniform.html#scipy.stats.uniform), [Discrete](https://docs.scipy.org/doc/scipy/reference/generated/scipy.stats.randint.html)\n"
   ]
  },
  {
   "cell_type": "code",
   "execution_count": 34,
   "id": "based-swing",
   "metadata": {},
   "outputs": [
    {
     "data": {
      "image/png": "[encoded data removed]",
      "text/plain": [
       "<Figure size 432x288 with 1 Axes>"
      ]
     },
     "metadata": {
      "needs_background": "light"
     },
     "output_type": "display_data"
    }
   ],
   "source": [
    "random_variables = stats.uniform.rvs(size=10000)\n",
    "plt.hist(random_variables)\n",
    "plt.title(\"Randomly Generated Uniform Distribution\")\n",
    "plt.show()"
   ]
  },
  {
   "cell_type": "markdown",
   "id": "fewer-sustainability",
   "metadata": {},
   "source": [
    "##### Bernouli Distribution"
   ]
  },
  {
   "cell_type": "markdown",
   "id": "difficult-contractor",
   "metadata": {},
   "source": [
    "* Description: A distribution describing a single event with only two possible outcomes.\n",
    "* Kind: Discrete\n",
    "* Example: A single coin landing on heads or tails.\n",
    "* Link: https://docs.scipy.org/doc/scipy/reference/generated/scipy.stats.bernoulli.html"
   ]
  },
  {
   "cell_type": "code",
   "execution_count": 11,
   "id": "bearing-mortality",
   "metadata": {},
   "outputs": [
    {
     "data": {
      "image/png": "[encoded data removed]",
      "text/plain": [
       "<Figure size 432x288 with 1 Axes>"
      ]
     },
     "metadata": {
      "needs_background": "light"
     },
     "output_type": "display_data"
    }
   ],
   "source": [
    "from scipy.stats import bernoulli\n",
    "\n",
    "fig, ax = plt.subplots(1, 1)\n",
    "p = 0.6\n",
    "x = np.arange(bernoulli.ppf(0.01, p), bernoulli.ppf(0.99, p))\n",
    "ax.plot(x, bernoulli.pmf(x, p), 'ro', ms=8, label='bernoulli pmf')\n",
    "ax.vlines(x, 0, bernoulli.pmf(x, p), colors='r', lw=5, alpha=0.5)\n",
    "rv = bernoulli(p)\n",
    "ax.vlines(x, 0, rv.pmf(x), colors='k', linestyles='-', lw=1, label='frozen pmf')\n",
    "ax.legend(loc='best', frameon=False)\n",
    "plt.show()"
   ]
  },
  {
   "cell_type": "markdown",
   "id": "described-arrow",
   "metadata": {},
   "source": [
    "##### Binomial Distribution"
   ]
  },
  {
   "cell_type": "markdown",
   "id": "governing-thong",
   "metadata": {},
   "source": [
    "* Description: A distribution describing an event with two possible outcomes being repeated several times in a row.\n",
    "* Kind: Discrete\n",
    "* Example: 10 trials of picking a red or blue marble (and replacing it) out of a bag with only red and blue marbles in it.\n",
    "* Link: https://docs.scipy.org/doc/scipy/reference/generated/scipy.stats.binom.html"
   ]
  },
  {
   "cell_type": "code",
   "execution_count": 12,
   "id": "actual-timber",
   "metadata": {},
   "outputs": [
    {
     "data": {
      "image/png": "[encoded data removed]",
      "text/plain": [
       "<Figure size 432x288 with 1 Axes>"
      ]
     },
     "metadata": {
      "needs_background": "light"
     },
     "output_type": "display_data"
    }
   ],
   "source": [
    "from scipy.stats import binom\n",
    "\n",
    "fig, ax = plt.subplots(1, 1)\n",
    "n, p = 10, 0.7\n",
    "mean, var, skew, kurt = binom.stats(n, p, moments='mvsk')\n",
    "x = np.arange(binom.ppf(0.01, n, p), binom.ppf(0.99, n, p))\n",
    "ax.plot(x, binom.pmf(x, n, p), 'bo', ms=8, label='binom pmf')\n",
    "ax.vlines(x, 0, binom.pmf(x, n, p), colors='g', lw=5, alpha=0.5)\n",
    "rv = binom(n, p)\n",
    "ax.vlines(x, 0, rv.pmf(x), colors='k', linestyles='-', lw=1, label='frozen pmf')\n",
    "ax.legend(loc='best', frameon=False)\n",
    "plt.show()"
   ]
  },
  {
   "cell_type": "markdown",
   "id": "framed-texas",
   "metadata": {},
   "source": [
    "##### Poisson Distribution"
   ]
  },
  {
   "cell_type": "markdown",
   "id": "governmental-maximum",
   "metadata": {},
   "source": [
    "* Description: A distribution describing how likely an event is to occur.\n",
    "* Kind: Discrete\n",
    "* Example: Finding the probability that more than 10 students in a class will get a 100 on the exam.\n",
    "* Link: https://docs.scipy.org/doc/scipy/reference/generated/scipy.stats.poisson.html"
   ]
  },
  {
   "cell_type": "code",
   "execution_count": 13,
   "id": "tender-hostel",
   "metadata": {},
   "outputs": [
    {
     "data": {
      "image/png": "[encoded data removed]",
      "text/plain": [
       "<Figure size 432x288 with 1 Axes>"
      ]
     },
     "metadata": {
      "needs_background": "light"
     },
     "output_type": "display_data"
    }
   ],
   "source": [
    "from scipy.stats import poisson\n",
    "\n",
    "fig, ax = plt.subplots(1, 1)\n",
    "mu = 0.3\n",
    "mean, var, skew, kurt = poisson.stats(mu, moments='mvsk')\n",
    "x = np.arange(poisson.ppf(0.01, mu), poisson.ppf(0.99, mu))\n",
    "ax.plot(x, poisson.pmf(x, mu), 'bo', ms=8, label='poisson pmf')\n",
    "ax.vlines(x, 0, poisson.pmf(x, mu), colors='b', lw=5, alpha=0.5)\n",
    "rv = poisson(mu)\n",
    "ax.vlines(x, 0, rv.pmf(x), colors='k', linestyles='-', lw=1, label='frozen pmf')\n",
    "ax.legend(loc='best', frameon=False)\n",
    "plt.show()"
   ]
  },
  {
   "cell_type": "markdown",
   "id": "bacterial-ensemble",
   "metadata": {},
   "source": [
    "##### Normal Distribution"
   ]
  },
  {
   "cell_type": "markdown",
   "id": "legitimate-circular",
   "metadata": {},
   "source": [
    "* Description: A distribution for an independent random variable that is also a real number.\n",
    "* Kind: Continuous\n",
    "* Example: Height measurements for a particular age group of people.\n",
    "* Link: https://docs.scipy.org/doc/scipy/reference/generated/scipy.stats.norm.html"
   ]
  },
  {
   "cell_type": "code",
   "execution_count": 15,
   "id": "continuing-uniform",
   "metadata": {},
   "outputs": [
    {
     "data": {
      "image/png": "[encoded data removed]",
      "text/plain": [
       "<Figure size 432x288 with 1 Axes>"
      ]
     },
     "metadata": {
      "needs_background": "light"
     },
     "output_type": "display_data"
    }
   ],
   "source": [
    "from scipy.stats import norm\n",
    "\n",
    "fig, ax = plt.subplots(1, 1)\n",
    "mean, var, skew, kurt = norm.stats(moments='mvsk')\n",
    "x = np.linspace(norm.ppf(0.01), norm.ppf(0.99), 100)\n",
    "ax.plot(x, norm.pdf(x), 'b-', lw=5, alpha=0.6, label='norm pdf')\n",
    "rv = norm()\n",
    "ax.plot(x, rv.pdf(x), 'k-', lw=2, label='frozen pdf')\n",
    "vals = norm.ppf([0.001, 0.5, 0.999])\n",
    "np.allclose([0.001, 0.5, 0.999], norm.cdf(vals))\n",
    "r = norm.rvs(size=1000)\n",
    "plt.show()"
   ]
  },
  {
   "cell_type": "markdown",
   "id": "opponent-configuration",
   "metadata": {},
   "source": [
    "##### Student's T Distribution"
   ]
  },
  {
   "cell_type": "markdown",
   "id": "expired-hamilton",
   "metadata": {},
   "source": [
    "* Description: A distribution representative of natural occurrences in situations with limited sample size\n",
    "* Kind: Continuous\n",
    "* Example: Test scores from one class\n",
    "* Link: https://docs.scipy.org/doc/scipy/reference/generated/scipy.stats.t.html#scipy.stats.t"
   ]
  },
  {
   "cell_type": "code",
   "execution_count": 8,
   "id": "indonesian-visit",
   "metadata": {},
   "outputs": [
    {
     "data": {
      "image/png": "[encoded data removed]",
      "text/plain": [
       "<Figure size 432x288 with 1 Axes>"
      ]
     },
     "metadata": {
      "needs_background": "light"
     },
     "output_type": "display_data"
    }
   ],
   "source": [
    "df=2 #degrees of freedon\n",
    "random_variables = stats.t.rvs(df,size=100)\n",
    "x = np.linspace(stats.t.ppf(0.01, df), stats.t.ppf(0.99, df), 100)\n",
    "plt.plot(x, stats.t.pdf(x, df),'r-', lw=5, alpha=0.6, label='t pdf')\n",
    "plt.title(\"Randomly Generated Student T Distribution\")\n",
    "plt.show()"
   ]
  },
  {
   "cell_type": "markdown",
   "id": "written-healing",
   "metadata": {},
   "source": [
    "##### Chi-Squared Distribution"
   ]
  },
  {
   "cell_type": "markdown",
   "id": "affecting-wages",
   "metadata": {},
   "source": [
    "* Description: A distribution of the sum of squared random variables (useful for goodness of fit, variability, independence of events)\n",
    "* Kind: Continuous\n",
    "* Example: Determining if a coffee machine dispenses the same amount of coffee per use\n",
    "* Link: https://docs.scipy.org/doc/scipy/reference/generated/scipy.stats.chi2.html#scipy.stats.chi2"
   ]
  },
  {
   "cell_type": "code",
   "execution_count": 12,
   "id": "dense-remainder",
   "metadata": {},
   "outputs": [
    {
     "data": {
      "image/png": "[encoded data removed]",
      "text/plain": [
       "<Figure size 432x288 with 1 Axes>"
      ]
     },
     "metadata": {
      "needs_background": "light"
     },
     "output_type": "display_data"
    }
   ],
   "source": [
    "df=10 #degrees of freedon\n",
    "random_variables = stats.chi2.rvs(df,size=10000)\n",
    "x = np.linspace(stats.chi2.ppf(0.01, df), stats.chi2.ppf(0.99, df), 100)\n",
    "plt.plot(x, stats.chi2.pdf(x, df),'b-', lw=5, alpha=0.6, label='chi2 pdf')\n",
    "plt.title(\"Randomly Generated Chi^2 Distribution\")\n",
    "plt.show()"
   ]
  },
  {
   "cell_type": "markdown",
   "id": "sticky-friday",
   "metadata": {},
   "source": [
    "##### Exponential Distribution"
   ]
  },
  {
   "cell_type": "markdown",
   "id": "willing-adaptation",
   "metadata": {},
   "source": [
    "* Description: A distribution representing time between events or during a process\n",
    "* Kind: Continuous\n",
    "* Example: The amount of time a phone battery lasts until it needs to be replaced\n",
    "* Link: https://docs.scipy.org/doc/scipy/reference/generated/scipy.stats.expon.html#scipy.stats.expon"
   ]
  },
  {
   "cell_type": "code",
   "execution_count": 17,
   "id": "subsequent-latvia",
   "metadata": {},
   "outputs": [
    {
     "data": {
      "image/png": "[encoded data removed]",
      "text/plain": [
       "<Figure size 432x288 with 1 Axes>"
      ]
     },
     "metadata": {
      "needs_background": "light"
     },
     "output_type": "display_data"
    }
   ],
   "source": [
    "random_variables = stats.expon.rvs(size=10000)\n",
    "x = np.linspace(stats.expon.ppf(0.01),stats.expon.ppf(0.99), 100)\n",
    "plt.plot(x, stats.expon.pdf(x),'g-', lw=5, alpha=0.6, label='expon pdf')\n",
    "plt.title(\"Randomly Generated Exponential Distribution\")\n",
    "plt.show()"
   ]
  },
  {
   "cell_type": "markdown",
   "id": "second-worth",
   "metadata": {},
   "source": [
    "##### Logistic Distribution"
   ]
  },
  {
   "cell_type": "markdown",
   "id": "sustainable-zoning",
   "metadata": {},
   "source": [
    "* Description: A distribution often used to represent growth models and logistic regression\n",
    "* Kind: Continuous\n",
    "* Example: Modeling species population growth\n",
    "* Link: https://docs.scipy.org/doc/scipy/reference/generated/scipy.stats.logistic.html#scipy.stats.logistic"
   ]
  },
  {
   "cell_type": "code",
   "execution_count": 24,
   "id": "hollow-brunei",
   "metadata": {},
   "outputs": [
    {
     "data": {
      "image/png": "[encoded data removed]",
      "text/plain": [
       "<Figure size 432x288 with 1 Axes>"
      ]
     },
     "metadata": {
      "needs_background": "light"
     },
     "output_type": "display_data"
    }
   ],
   "source": [
    "random_variables = stats.logistic.rvs(size=10000)\n",
    "x = np.linspace(stats.logistic.ppf(0.01),stats.logistic.ppf(0.99), 100)\n",
    "plt.plot(x, stats.logistic.pdf(x),'y-', lw=5, alpha=0.6, label='expon pdf')\n",
    "plt.title(\"Randomly Generated Logistic Distribution\")\n",
    "plt.show()"
   ]
  },
  {
   "cell_type": "markdown",
   "id": "grateful-connection",
   "metadata": {},
   "source": [
    "# Part 3) Summary Stats\n",
    "\n",
    "For this section, you will need to use Google and ask questions."
   ]
  },
  {
   "cell_type": "markdown",
   "id": "burning-perfume",
   "metadata": {},
   "source": [
    "#### Q3.1)\n",
    "When should you use mean vs. median?"
   ]
  },
  {
   "cell_type": "markdown",
   "id": "joined-header",
   "metadata": {},
   "source": [
    "Median is ideal for distribtions that have outliers, since it is less affected by outliers than the mean is. The mean is better for a normal distribution."
   ]
  },
  {
   "cell_type": "markdown",
   "id": "aware-trail",
   "metadata": {},
   "source": [
    "#### Q3.2)\n",
    "What is the standard deviation and variance?"
   ]
  },
  {
   "cell_type": "markdown",
   "id": "developmental-career",
   "metadata": {},
   "source": [
    "Standard Deviation - A measure of spread that shows how much your data varies from the mean/median, on average.\n",
    "<br>Variance - A function that measures how spread-out a data set is"
   ]
  },
  {
   "cell_type": "markdown",
   "id": "comparable-criminal",
   "metadata": {},
   "source": [
    "#### Q3.3)\n",
    "\n",
    "Describe the tradeoffs between providing the standard deviation/variance vs. the 5-number summary. "
   ]
  },
  {
   "cell_type": "markdown",
   "id": "plain-toner",
   "metadata": {},
   "source": [
    "The standard deviation and variance do not yield the median, and the 5-number summary does not give the mean. It may be easier to detect outliers with the 5-number summary, but you can use the standard dev/variance if you are more concerned about the general spread of your data."
   ]
  },
  {
   "cell_type": "markdown",
   "id": "unable-variable",
   "metadata": {},
   "source": [
    "#### Q3.4)\n",
    "\n",
    "What is skew? Can a skewed dataset still be normally distributed?"
   ]
  },
  {
   "cell_type": "markdown",
   "id": "sixth-vinyl",
   "metadata": {},
   "source": [
    "A skew is a measure of how asymmetric a dataset is -- how much it leans left or right. A skewed dataset can be considered normal or **approximately normal** if the sample size is large or if the population distribution is normal."
   ]
  },
  {
   "cell_type": "markdown",
   "id": "existing-chapter",
   "metadata": {},
   "source": [
    "#### Q3.5)\n",
    "What is a frequency table? How is it useful for describing data?"
   ]
  },
  {
   "cell_type": "markdown",
   "id": "final-manhattan",
   "metadata": {},
   "source": [
    "A frequency table is used for keeping track of the number of times an event or data value occurs. It is useful for categorical data and distributions that involve multiple trials of an event."
   ]
  },
  {
   "cell_type": "markdown",
   "id": "enormous-positive",
   "metadata": {},
   "source": [
    "#### Q3.6)\n",
    "\n",
    "Observe the data shown below and classify each column shown below as either: nominal, binary, ordinal, or quantitative."
   ]
  },
  {
   "cell_type": "code",
   "execution_count": 2,
   "id": "incorporated-pattern",
   "metadata": {},
   "outputs": [
    {
     "data": {
      "text/html": [
       "<div>\n",
       "<style scoped>\n",
       "    .dataframe tbody tr th:only-of-type {\n",
       "        vertical-align: middle;\n",
       "    }\n",
       "\n",
       "    .dataframe tbody tr th {\n",
       "        vertical-align: top;\n",
       "    }\n",
       "\n",
       "    .dataframe thead th {\n",
       "        text-align: right;\n",
       "    }\n",
       "</style>\n",
       "<table border=\"1\" class=\"dataframe\">\n",
       "  <thead>\n",
       "    <tr style=\"text-align: right;\">\n",
       "      <th></th>\n",
       "      <th>id</th>\n",
       "      <th>material</th>\n",
       "      <th>name</th>\n",
       "      <th>development.phase</th>\n",
       "      <th>location.city</th>\n",
       "      <th>location.latitude</th>\n",
       "      <th>location.longitude</th>\n",
       "      <th>statistics.height</th>\n",
       "      <th>tall?</th>\n",
       "    </tr>\n",
       "  </thead>\n",
       "  <tbody>\n",
       "    <tr>\n",
       "      <th>0</th>\n",
       "      <td>12</td>\n",
       "      <td>steel</td>\n",
       "      <td>The Illinois</td>\n",
       "      <td>1</td>\n",
       "      <td>Chicago</td>\n",
       "      <td>0.000000</td>\n",
       "      <td>0.000000</td>\n",
       "      <td>1609.359985</td>\n",
       "      <td>True</td>\n",
       "    </tr>\n",
       "    <tr>\n",
       "      <th>1</th>\n",
       "      <td>62</td>\n",
       "      <td>composite</td>\n",
       "      <td>Chicago Spire</td>\n",
       "      <td>2</td>\n",
       "      <td>Chicago</td>\n",
       "      <td>41.889889</td>\n",
       "      <td>-87.614861</td>\n",
       "      <td>609.599976</td>\n",
       "      <td>True</td>\n",
       "    </tr>\n",
       "    <tr>\n",
       "      <th>2</th>\n",
       "      <td>68</td>\n",
       "      <td>composite</td>\n",
       "      <td>Miglin-Beitler Skyneedle</td>\n",
       "      <td>1</td>\n",
       "      <td>Chicago</td>\n",
       "      <td>41.881618</td>\n",
       "      <td>-87.634354</td>\n",
       "      <td>609.489990</td>\n",
       "      <td>True</td>\n",
       "    </tr>\n",
       "    <tr>\n",
       "      <th>3</th>\n",
       "      <td>98</td>\n",
       "      <td>composite</td>\n",
       "      <td>One World Trade Center</td>\n",
       "      <td>3</td>\n",
       "      <td>New York City</td>\n",
       "      <td>40.713112</td>\n",
       "      <td>-74.013351</td>\n",
       "      <td>541.299988</td>\n",
       "      <td>True</td>\n",
       "    </tr>\n",
       "    <tr>\n",
       "      <th>4</th>\n",
       "      <td>14269</td>\n",
       "      <td>concrete</td>\n",
       "      <td>Central Park Tower</td>\n",
       "      <td>2</td>\n",
       "      <td>New York City</td>\n",
       "      <td>40.766361</td>\n",
       "      <td>-73.980949</td>\n",
       "      <td>541.020020</td>\n",
       "      <td>True</td>\n",
       "    </tr>\n",
       "  </tbody>\n",
       "</table>\n",
       "</div>"
      ],
      "text/plain": [
       "      id   material                      name  development.phase  \\\n",
       "0     12      steel              The Illinois                  1   \n",
       "1     62  composite             Chicago Spire                  2   \n",
       "2     68  composite  Miglin-Beitler Skyneedle                  1   \n",
       "3     98  composite    One World Trade Center                  3   \n",
       "4  14269   concrete        Central Park Tower                  2   \n",
       "\n",
       "   location.city  location.latitude  location.longitude  statistics.height  \\\n",
       "0        Chicago           0.000000            0.000000        1609.359985   \n",
       "1        Chicago          41.889889          -87.614861         609.599976   \n",
       "2        Chicago          41.881618          -87.634354         609.489990   \n",
       "3  New York City          40.713112          -74.013351         541.299988   \n",
       "4  New York City          40.766361          -73.980949         541.020020   \n",
       "\n",
       "   tall?  \n",
       "0   True  \n",
       "1   True  \n",
       "2   True  \n",
       "3   True  \n",
       "4   True  "
      ]
     },
     "execution_count": 2,
     "metadata": {},
     "output_type": "execute_result"
    }
   ],
   "source": [
    "skyscrapers_full = pd.read_csv(\"https://corgis-edu.github.io/corgis/datasets/csv/skyscrapers/skyscrapers.csv\")\n",
    "# You can ignore how we calculate the fields, though it might help you understand it better\n",
    "skyscrapers_full['tall?'] = skyscrapers_full['statistics.height'] > 100\n",
    "skyscrapers_full['development.phase'] = skyscrapers_full['status.current'].map(lambda s: 3 if s in ('completed', 'demolished')\n",
    "                                                                                         else 1 if s in ('proposed', 'vision')\n",
    "                                                                                         else 2)\n",
    "skyscrapers = skyscrapers_full[['id', 'material', 'name', 'development.phase',\n",
    "                                'location.city', 'location.latitude', 'location.longitude',\n",
    "                                'statistics.height', 'tall?']]\n",
    "skyscrapers.head()"
   ]
  },
  {
   "cell_type": "markdown",
   "id": "hindu-exemption",
   "metadata": {},
   "source": [
    "* `id`: Quantitative\n",
    "* `material`: Nominal\n",
    "* `name`: Nominal\n",
    "* `development.phase`: Ordinal \n",
    "* `location.city`: Nominal \n",
    "* `location.latitude`: Quantitative\n",
    "* `location.longitude`: Quantitative\n",
    "* `statistics.height`: Quantitative\n",
    "* `tall?`: Binary"
   ]
  },
  {
   "cell_type": "markdown",
   "id": "tracked-catalyst",
   "metadata": {},
   "source": [
    "#### Q3.7)\n",
    "\n",
    "For each column in the dataset above, provide appropriate summary statistics in whatever way makes the most sense to concisely describe the data."
   ]
  },
  {
   "cell_type": "code",
   "execution_count": 20,
   "id": "nearby-chick",
   "metadata": {},
   "outputs": [
    {
     "name": "stdout",
     "output_type": "stream",
     "text": [
      "ID:\n",
      "Number of IDs / Skyscrapers:  2431\n",
      "\n",
      "Material:\n",
      "concrete          1366\n",
      "steel              875\n",
      "composite          123\n",
      "steel/concrete      33\n",
      "concrete/steel      22\n",
      "masonry              9\n",
      "precast              3\n",
      "Name: material, dtype: int64\n",
      "\n",
      "Name:\n",
      "Bank of America Plaza       5\n",
      "Wells Fargo Center          5\n",
      "Bank of America Building    4\n",
      "Park Tower                  4\n",
      "The Carlyle                 4\n",
      "                           ..\n",
      "4 East Elm Street           1\n",
      "Bunker Hill Towers          1\n",
      "33 Park Avenue Tower 2      1\n",
      "Archstone Chelsea           1\n",
      "SunTrust Center             1\n",
      "Name: name, Length: 2356, dtype: int64\n",
      "\n",
      "Development Phase:\n",
      "Frequency:\n",
      " 3    2116\n",
      "2     200\n",
      "1     115\n",
      "Name: development.phase, dtype: int64\n",
      "Mode:\n",
      " 0    3\n",
      "dtype: int64\n",
      "\n",
      "Location (City):\n",
      "New York City    640\n",
      "Chicago          419\n",
      "Miami            130\n",
      "Houston           68\n",
      "San Francisco     68\n",
      "                ... \n",
      "Silver Spring      1\n",
      "Anchorage          1\n",
      "Arlington          1\n",
      "Billings           1\n",
      "Boca Raton         1\n",
      "Name: location.city, Length: 160, dtype: int64\n",
      "\n",
      "Location (Latitude):\n",
      " -Min Latitude:0.0\n",
      " -Max Latitude:61.215209960938\n",
      " -Median Latitude: 40.724868774414\n",
      "\n",
      "Location (Longitude):\n",
      " -Min Longitude:-157.98007202148\n",
      " -Max Longitude:0.0\n",
      " -Median Longitude: -83.045433044434\n",
      "\n",
      "Height:\n",
      " -Min Height:0.0\n",
      " -Max Height:1609.3599853516\n",
      " -Median Height: 124.0\n",
      "\n",
      "Tall Buildings:\n",
      "True     1790\n",
      "False     641\n",
      "Name: tall?, dtype: int64\n"
     ]
    }
   ],
   "source": [
    "print(\"ID:\")\n",
    "print(\"Number of IDs / Skyscrapers: \", skyscrapers['id'].count())\n",
    "print()\n",
    "\n",
    "print(\"Material:\")\n",
    "print(skyscrapers['material'].value_counts())\n",
    "print()\n",
    "\n",
    "print(\"Name:\")\n",
    "print(skyscrapers['name'].value_counts())\n",
    "print()\n",
    "\n",
    "print(\"Development Phase:\")\n",
    "print(\"Frequency:\\n\", skyscrapers['development.phase'].value_counts())\n",
    "print(\"Mode:\\n\", skyscrapers['development.phase'].mode())\n",
    "print()\n",
    "\n",
    "print(\"Location (City):\")\n",
    "print(skyscrapers['location.city'].value_counts())\n",
    "print()\n",
    "\n",
    "print(\"Location (Latitude):\")\n",
    "print(\" -Min Latitude:\" + str(skyscrapers['location.latitude'].min())) \n",
    "print(\" -Max Latitude:\" + str(skyscrapers['location.latitude'].max())) \n",
    "print(\" -Median Latitude: \" + str(skyscrapers['location.latitude'].median()))\n",
    "print()\n",
    "\n",
    "print(\"Location (Longitude):\")\n",
    "print(\" -Min Longitude:\" + str(skyscrapers['location.longitude'].min())) \n",
    "print(\" -Max Longitude:\" + str(skyscrapers['location.longitude'].max())) \n",
    "print(\" -Median Longitude: \" + str(skyscrapers['location.longitude'].median()))\n",
    "print()\n",
    "\n",
    "print(\"Height:\")\n",
    "print(\" -Min Height:\" + str(skyscrapers['statistics.height'].min())) \n",
    "print(\" -Max Height:\" + str(skyscrapers['statistics.height'].max())) \n",
    "print(\" -Median Height: \" + str(skyscrapers['statistics.height'].median()))\n",
    "print()\n",
    "\n",
    "print(\"Tall Buildings:\")\n",
    "print(skyscrapers['tall?'].value_counts())"
   ]
  },
  {
   "cell_type": "markdown",
   "id": "silent-student",
   "metadata": {},
   "source": [
    "#### Q3.8)\n",
    "\n",
    "Classify each of the following scenarios as \"paired\" or \"unpaired\" data.\n",
    "\n",
    "1. We draw two random samples from the complete set of skyscrapers. Both samples have 100 skyscrapers."
   ]
  },
  {
   "cell_type": "markdown",
   "id": "tested-development",
   "metadata": {},
   "source": [
    "Unpaired"
   ]
  },
  {
   "cell_type": "markdown",
   "id": "discrete-assault",
   "metadata": {},
   "source": [
    "2. We collect a new version of the dataset, updating the `\"development.phase\"` value in order to compare it to the old value."
   ]
  },
  {
   "cell_type": "markdown",
   "id": "elementary-alberta",
   "metadata": {},
   "source": [
    "Paired"
   ]
  },
  {
   "cell_type": "markdown",
   "id": "soviet-training",
   "metadata": {},
   "source": [
    "3. We collect data about the architectures of each building, in order to see if there a relationship between the builder's age and the height of the building."
   ]
  },
  {
   "cell_type": "markdown",
   "id": "native-asthma",
   "metadata": {},
   "source": [
    "Unpaired"
   ]
  },
  {
   "cell_type": "markdown",
   "id": "acceptable-borough",
   "metadata": {},
   "source": [
    "# Part 4) Normality Checks"
   ]
  },
  {
   "cell_type": "markdown",
   "id": "confused-practice",
   "metadata": {},
   "source": [
    "Read the following page about normality tests:\n",
    "\n",
    "https://machinelearningmastery.com/a-gentle-introduction-to-normality-tests-in-python/\n"
   ]
  },
  {
   "cell_type": "markdown",
   "id": "declared-proportion",
   "metadata": {},
   "source": [
    "#### Q4.1)\n",
    "\n",
    "Some skyscrapers are much taller than most skyscrapers. Demonstrate this by creating a Histogram of that data."
   ]
  },
  {
   "cell_type": "code",
   "execution_count": 21,
   "id": "charming-broadcast",
   "metadata": {},
   "outputs": [
    {
     "data": {
      "image/png": "[encoded data removed]",
      "text/plain": [
       "<Figure size 432x288 with 1 Axes>"
      ]
     },
     "metadata": {
      "needs_background": "light"
     },
     "output_type": "display_data"
    }
   ],
   "source": [
    "plt.hist(skyscrapers['statistics.height'])\n",
    "plt.show()"
   ]
  },
  {
   "cell_type": "markdown",
   "id": "promotional-bahamas",
   "metadata": {},
   "source": [
    "#### Q4.2)\n",
    "\n",
    "Logarithmic transformations are often used in situations like this to make the visualizations easier to read.\n",
    "Why?"
   ]
  },
  {
   "cell_type": "markdown",
   "id": "distributed-season",
   "metadata": {},
   "source": [
    "They help to normalize the distribution, spreading out the smaller values so that they are easier to read."
   ]
  },
  {
   "cell_type": "markdown",
   "id": "stupid-commitment",
   "metadata": {},
   "source": [
    "#### Q4.3)\n",
    "\n",
    "Create a new version of your visualization that is log transformed, by manipulating the data.\n",
    "\n",
    "Hints:\n",
    "* You might find it helpful to increase the number of bins in the final version to produce a nicer looking graph.\n",
    "* Some of the data is dirty - remove zeroes!"
   ]
  },
  {
   "cell_type": "code",
   "execution_count": 36,
   "id": "whole-action",
   "metadata": {},
   "outputs": [
    {
     "data": {
      "image/png": "[encoded data removed]",
      "text/plain": [
       "<Figure size 432x288 with 1 Axes>"
      ]
     },
     "metadata": {
      "needs_background": "light"
     },
     "output_type": "display_data"
    }
   ],
   "source": [
    "transformed = skyscrapers['statistics.height']\n",
    "transformed = transformed.where(lambda x : x > 0).dropna()\n",
    "transformed = skyscrapers['statistics.height'].apply(np.log1p)\n",
    "plt.hist(transformed, 15)\n",
    "plt.show()"
   ]
  },
  {
   "cell_type": "markdown",
   "id": "confident-ceramic",
   "metadata": {},
   "source": [
    "#### Q4.4)\n",
    "\n",
    "We wish to know if the data is now normally distributed. You can use a Shapiro Wilks test in `scipy.stats` to determine if a distribution is normal. This is demonstrated below."
   ]
  },
  {
   "cell_type": "code",
   "execution_count": 125,
   "id": "developmental-float",
   "metadata": {},
   "outputs": [
    {
     "data": {
      "image/png": "[encoded data removed]",
      "text/plain": [
       "<Figure size 432x288 with 1 Axes>"
      ]
     },
     "metadata": {
      "needs_background": "light"
     },
     "output_type": "display_data"
    },
    {
     "name": "stdout",
     "output_type": "stream",
     "text": [
      "Normally Distributed Values: 0.9873840808868408 0.4639612138271332 False\n",
      "Since the pvalue is greater than 0.05, we accept the null hypothesis that it is normally distributed.\n"
     ]
    },
    {
     "data": {
      "image/png": "[encoded data removed]",
      "text/plain": [
       "<Figure size 432x288 with 1 Axes>"
      ]
     },
     "metadata": {
      "needs_background": "light"
     },
     "output_type": "display_data"
    },
    {
     "name": "stdout",
     "output_type": "stream",
     "text": [
      "Random Values: 0.9455756545066833 0.0004289667122066021 True\n",
      "Since the pvalue is less than 0.05, we reject the null hypothesis that it is normally distributed.\n"
     ]
    }
   ],
   "source": [
    "# Mean of 50, standard deviation of 10, create 100 numbers\n",
    "normal_values = stats.norm.rvs(loc=50, scale=10, size=100)\n",
    "plt.hist(normal_values)\n",
    "plt.title(\"Normal Distribution with Mean of 50\")\n",
    "plt.ylabel(\"Frequency\")\n",
    "plt.show()\n",
    "\n",
    "test_statistic, p_value = stats.shapiro(normal_values)\n",
    "print(\"Normally Distributed Values:\", test_statistic, p_value, p_value < .05)\n",
    "print(\"Since the pvalue is greater than 0.05, we accept the null hypothesis that it is normally distributed.\")\n",
    "\n",
    "# Mean of 50, standard deviation of 10, create 100 numbers\n",
    "normal_values = stats.randint.rvs(low=0, high=100, size=100)\n",
    "plt.hist(normal_values)\n",
    "plt.title(\"Random Distribution\")\n",
    "plt.ylabel(\"Frequency\")\n",
    "plt.show()\n",
    "\n",
    "test_statistic, p_value = stats.shapiro(normal_values)\n",
    "print(\"Random Values:\", test_statistic, p_value, p_value < .05)\n",
    "print(\"Since the pvalue is less than 0.05, we reject the null hypothesis that it is normally distributed.\")"
   ]
  },
  {
   "cell_type": "markdown",
   "id": "insured-astrology",
   "metadata": {},
   "source": [
    "Building off our example, determine if:\n",
    "\n",
    "1. The original untransformed heights follow a normal distribution.\n",
    "2. The log-transformed heights follow a normal distribution.\n",
    "\n",
    "Be sure to use an appropriate test."
   ]
  },
  {
   "cell_type": "code",
   "execution_count": 41,
   "id": "dietary-pavilion",
   "metadata": {},
   "outputs": [
    {
     "name": "stdout",
     "output_type": "stream",
     "text": [
      "Since the pvalue is less than 0.05, we reject the null hypothesis that the original heights are normally distributed.\n",
      "\n",
      "Since the pvalue is less than 0.05, we reject the null hypothesis that the transformed heights are normally distributed.\n"
     ]
    }
   ],
   "source": [
    "test_statistic, p_value = stats.shapiro(skyscrapers['statistics.height'])\n",
    "if p_value < 0.05:\n",
    "    print(\"Since the pvalue is less than 0.05, we reject the null hypothesis that the original heights are normally distributed.\\n\")\n",
    "else:\n",
    "    print(\"Since the pvalue is greater than 0.05, we accept the null hypothesis that the original heights are normally distributed.\\n\")\n",
    "\n",
    "test_statistic, p_value = stats.shapiro(transformed)\n",
    "if p_value < 0.05:\n",
    "    print(\"Since the pvalue is less than 0.05, we reject the null hypothesis that the transformed heights are normally distributed.\")\n",
    "else:\n",
    "    print(\"Since the pvalue is greater than 0.05, we accept the null hypothesis that the transformed heights are normally distributed.\")"
   ]
  },
  {
   "cell_type": "markdown",
   "id": "signed-performance",
   "metadata": {},
   "source": [
    "#### Q4.5)\n",
    "\n",
    "Would it be appropriate to use parameteric statistics on this data?"
   ]
  },
  {
   "cell_type": "markdown",
   "id": "relevant-reliance",
   "metadata": {},
   "source": [
    "No, since it is not approximately normal."
   ]
  },
  {
   "cell_type": "markdown",
   "id": "detailed-pastor",
   "metadata": {},
   "source": [
    "# Part 5) Correlation Analysis\n",
    "\n",
    "Read over the following page: https://www.ncbi.nlm.nih.gov/pmc/articles/PMC2996580/"
   ]
  },
  {
   "cell_type": "markdown",
   "id": "spatial-lewis",
   "metadata": {},
   "source": [
    "#### Q5.1)\n",
    "\n",
    "In your own words, define the following terms:\n",
    "\n",
    "1) Hypothesis"
   ]
  },
  {
   "cell_type": "markdown",
   "id": "prescription-argentina",
   "metadata": {},
   "source": []
  },
  {
   "cell_type": "markdown",
   "id": "unlike-field",
   "metadata": {},
   "source": [
    "2) Hypothesis Test"
   ]
  },
  {
   "cell_type": "markdown",
   "id": "continuing-combat",
   "metadata": {},
   "source": []
  },
  {
   "cell_type": "markdown",
   "id": "effective-costume",
   "metadata": {},
   "source": [
    "3) P-value"
   ]
  },
  {
   "cell_type": "markdown",
   "id": "offshore-coordinate",
   "metadata": {},
   "source": []
  },
  {
   "cell_type": "markdown",
   "id": "synthetic-services",
   "metadata": {},
   "source": [
    "4) Null Hypothesis"
   ]
  },
  {
   "cell_type": "markdown",
   "id": "other-junction",
   "metadata": {},
   "source": []
  },
  {
   "cell_type": "markdown",
   "id": "supported-remainder",
   "metadata": {},
   "source": [
    "5. \"Approaching Significance\" (read over [this webpage](https://mchankins.wordpress.com/2013/04/21/still-not-significant-2/))"
   ]
  },
  {
   "cell_type": "markdown",
   "id": "numeric-happening",
   "metadata": {},
   "source": []
  },
  {
   "cell_type": "markdown",
   "id": "correct-latter",
   "metadata": {},
   "source": [
    "#### Q5.2)\n",
    "\n",
    "Make a list of all the criteria you should consider when choosing an appropriate statistical test.\n",
    "Additionally, embed a flowchart that can help visually demonstrate the critiera you should use."
   ]
  },
  {
   "cell_type": "markdown",
   "id": "peripheral-samuel",
   "metadata": {},
   "source": [
    "1. \n",
    "2.\n",
    "3.\n",
    "\n",
    "..."
   ]
  },
  {
   "cell_type": "markdown",
   "id": "compatible-wholesale",
   "metadata": {},
   "source": [
    "#### Q5.3)\n",
    "\n",
    "For each of the following statistical test functions from `scipy`, provide the following information:\n",
    "\n",
    "* Function: The name of the function in Scipy\n",
    "* Link: The URL to the documentation of the test.\n",
    "* Test: A more human-readable name of the test\n",
    "* Description: A quick one-sentence description of the test indicating clearly what it is used for\n",
    "* Assumptions: A list of any assumptions made by the test.\n",
    "* Example: An example of how you might use this test"
   ]
  },
  {
   "cell_type": "markdown",
   "id": "needed-hampshire",
   "metadata": {},
   "source": [
    "##### f_oneway\n",
    "\n",
    "* Function: `f_oneway`\n",
    "* Link: https://docs.scipy.org/doc/scipy/reference/generated/scipy.stats.f_oneway.html\n",
    "* Test: One-way ANOVA\n",
    "* Description: A parametric test for 2+ independent samples to determine if they have the same population mean. \n",
    "* Assumptions:\n",
    "    * Samples must be independent\n",
    "    * Population is normally distributed\n",
    "    * Populations' standard deviations are equal\n",
    "* Example: Take a big group of students, break them up by gender, and see if their heights differ by gender."
   ]
  },
  {
   "cell_type": "markdown",
   "id": "retained-armenia",
   "metadata": {},
   "source": [
    "##### pearsonr\n",
    "\n",
    "* Function:\n",
    "* Link:\n",
    "* Test:\n",
    "* Description:\n",
    "* Assumptions:\n",
    "* Example:"
   ]
  },
  {
   "cell_type": "markdown",
   "id": "alleged-hayes",
   "metadata": {},
   "source": [
    "##### spearmanr\n",
    "\n",
    "* Function:\n",
    "* Link:\n",
    "* Test:\n",
    "* Description:\n",
    "* Assumptions:\n",
    "* Example:"
   ]
  },
  {
   "cell_type": "markdown",
   "id": "variable-result",
   "metadata": {},
   "source": [
    "##### pointbiseralr\n",
    "\n",
    "* Function:\n",
    "* Link:\n",
    "* Test:\n",
    "* Description:\n",
    "* Assumptions:\n",
    "* Example:"
   ]
  },
  {
   "cell_type": "markdown",
   "id": "surrounded-article",
   "metadata": {},
   "source": [
    "##### kendalltau\n",
    "\n",
    "* Function:\n",
    "* Link:\n",
    "* Test:\n",
    "* Description:\n",
    "* Assumptions:\n",
    "* Example:"
   ]
  },
  {
   "cell_type": "markdown",
   "id": "marked-piano",
   "metadata": {},
   "source": [
    "##### ttest_1samp\n",
    "\n",
    "* Function:\n",
    "* Link:\n",
    "* Test:\n",
    "* Description:\n",
    "* Assumptions:\n",
    "* Example:"
   ]
  },
  {
   "cell_type": "markdown",
   "id": "introductory-aviation",
   "metadata": {},
   "source": [
    "##### ttest_ind\n",
    "\n",
    "* Function:\n",
    "* Link:\n",
    "* Test:\n",
    "* Description:\n",
    "* Assumptions:\n",
    "* Example:"
   ]
  },
  {
   "cell_type": "markdown",
   "id": "academic-cartridge",
   "metadata": {},
   "source": [
    "##### ttest_rel\n",
    "\n",
    "* Function:\n",
    "* Link:\n",
    "* Test:\n",
    "* Description:\n",
    "* Assumptions:\n",
    "* Example:"
   ]
  },
  {
   "cell_type": "markdown",
   "id": "female-toner",
   "metadata": {},
   "source": [
    "##### chisquare\n",
    "\n",
    "* Function:\n",
    "* Link:\n",
    "* Test:\n",
    "* Description:\n",
    "* Assumptions:\n",
    "* Example:"
   ]
  },
  {
   "cell_type": "markdown",
   "id": "beginning-russian",
   "metadata": {},
   "source": [
    "##### mannwhitneyu\n",
    "\n",
    "* Function:\n",
    "* Link:\n",
    "* Test:\n",
    "* Description:\n",
    "* Assumptions:\n",
    "* Example:"
   ]
  },
  {
   "cell_type": "markdown",
   "id": "powerful-valentine",
   "metadata": {},
   "source": [
    "##### kstest\n",
    "\n",
    "* Function:\n",
    "* Link:\n",
    "* Test:\n",
    "* Description:\n",
    "* Assumptions:\n",
    "* Example:"
   ]
  },
  {
   "cell_type": "markdown",
   "id": "outer-engagement",
   "metadata": {},
   "source": [
    "##### wilcoxon\n",
    "\n",
    "* Function:\n",
    "* Link:\n",
    "* Test:\n",
    "* Description:\n",
    "* Assumptions:\n",
    "* Example:"
   ]
  },
  {
   "cell_type": "markdown",
   "id": "aerial-advice",
   "metadata": {},
   "source": [
    "##### kruskal\n",
    "\n",
    "* Function:\n",
    "* Link:\n",
    "* Test:\n",
    "* Description:\n",
    "* Assumptions:\n",
    "* Example:"
   ]
  },
  {
   "cell_type": "markdown",
   "id": "fundamental-phoenix",
   "metadata": {},
   "source": [
    "#### Q5.4)"
   ]
  },
  {
   "cell_type": "markdown",
   "id": "vertical-rolling",
   "metadata": {},
   "source": [
    "For each scenario below, identify what test you might choose.\n",
    "\n",
    "1. If we wished to test whether there was any association between Gender and uptake of Flu vaccination which would be the best test to choose?"
   ]
  },
  {
   "cell_type": "markdown",
   "id": "behavioral-soccer",
   "metadata": {},
   "source": []
  },
  {
   "cell_type": "markdown",
   "id": "eight-aerospace",
   "metadata": {},
   "source": [
    "2. If we wished to test if there was a difference between the gestational age of babies at birth (how far along the pregnancy is, in weeks) and the use of a nutritional supplement by their mothers during pregnancy which would be the best test to choose?"
   ]
  },
  {
   "cell_type": "markdown",
   "id": "initial-short",
   "metadata": {},
   "source": []
  },
  {
   "cell_type": "markdown",
   "id": "extraordinary-stopping",
   "metadata": {},
   "source": [
    "3. The cotinine level was measured in women at the beginning and end of their pregnancy. The change in cotinine was presented on a Log scale. Which would be the best test to use to see if there had been a change in cotinine level during pregnancy?"
   ]
  },
  {
   "cell_type": "markdown",
   "id": "legislative-gauge",
   "metadata": {},
   "source": []
  },
  {
   "cell_type": "markdown",
   "id": "representative-boating",
   "metadata": {},
   "source": [
    "4. If we wished to estimate the strength of the linear relationship between the weight of a mother and the weight of her baby at birth which would be the best test to choose?"
   ]
  },
  {
   "cell_type": "markdown",
   "id": "forty-safety",
   "metadata": {},
   "source": []
  },
  {
   "cell_type": "markdown",
   "id": "interim-spyware",
   "metadata": {},
   "source": [
    "5. The pre-operative and post-operative anxiety levels of adolescent patients undergoing orthopaedic surgery were measured using the State-Trait Anxiety Inventory STAI scale. The authors reported the pre-operative anxiety levels as mean = 33.8 (SD = 5.1) and post-operative anxiety levels as mean = 38.8 (SD = 7.2). They also performed a Shapiro-Wilks Test demonstrating that the data is normal. Which would have been the most appropriate test to assess the relationship between pre and post operative anxiety?"
   ]
  },
  {
   "cell_type": "markdown",
   "id": "encouraging-attempt",
   "metadata": {},
   "source": []
  },
  {
   "cell_type": "markdown",
   "id": "decimal-ranch",
   "metadata": {},
   "source": [
    "6. Salaries in the United States are heavily skewed. If you were investigating salaries between Software Engineers and non-Software Engineers, which test would be most appropriate?"
   ]
  },
  {
   "cell_type": "markdown",
   "id": "regulation-failure",
   "metadata": {},
   "source": []
  },
  {
   "cell_type": "markdown",
   "id": "atomic-stick",
   "metadata": {},
   "source": [
    "7. As previously mentioned, salaries in the United States are heavily skewed. You conduct a survey of 100 folks (selected completely at random from the US), asking their salary and their \"satisfaction their salary\" with the possible responses \"Very Happy\", \"Happy\", \"Neutral\", \"Unhappy\", and \"Very Unhappy\". What test could you use to determine the relationship between these two values?"
   ]
  },
  {
   "cell_type": "markdown",
   "id": "chronic-intent",
   "metadata": {},
   "source": []
  },
  {
   "cell_type": "markdown",
   "id": "binding-value",
   "metadata": {},
   "source": [
    "8. It is 2022, and the revolution has begun. It is chaos in the streets, and societal upheaval is everywhere. Strangely, you are more interested in doing data science, and are now investigating whether salaries are still skewed. You go back to the 100 folks you talked to previously, and ask them for their new salary data. What test can help you determine if there is a change?"
   ]
  },
  {
   "cell_type": "markdown",
   "id": "veterinary-worthy",
   "metadata": {},
   "source": []
  },
  {
   "cell_type": "markdown",
   "id": "julian-enemy",
   "metadata": {},
   "source": [
    "#### Q5.5)\n",
    "\n",
    "Recall the skyscrapers data we looked at before."
   ]
  },
  {
   "cell_type": "code",
   "execution_count": 150,
   "id": "piano-cradle",
   "metadata": {},
   "outputs": [
    {
     "data": {
      "text/html": [
       "<div>\n",
       "<style scoped>\n",
       "    .dataframe tbody tr th:only-of-type {\n",
       "        vertical-align: middle;\n",
       "    }\n",
       "\n",
       "    .dataframe tbody tr th {\n",
       "        vertical-align: top;\n",
       "    }\n",
       "\n",
       "    .dataframe thead th {\n",
       "        text-align: right;\n",
       "    }\n",
       "</style>\n",
       "<table border=\"1\" class=\"dataframe\">\n",
       "  <thead>\n",
       "    <tr style=\"text-align: right;\">\n",
       "      <th></th>\n",
       "      <th>id</th>\n",
       "      <th>material</th>\n",
       "      <th>name</th>\n",
       "      <th>development.phase</th>\n",
       "      <th>location.city</th>\n",
       "      <th>location.latitude</th>\n",
       "      <th>location.longitude</th>\n",
       "      <th>statistics.height</th>\n",
       "      <th>tall?</th>\n",
       "    </tr>\n",
       "  </thead>\n",
       "  <tbody>\n",
       "    <tr>\n",
       "      <th>0</th>\n",
       "      <td>12</td>\n",
       "      <td>steel</td>\n",
       "      <td>The Illinois</td>\n",
       "      <td>1</td>\n",
       "      <td>Chicago</td>\n",
       "      <td>0.000000</td>\n",
       "      <td>0.000000</td>\n",
       "      <td>1609.359985</td>\n",
       "      <td>True</td>\n",
       "    </tr>\n",
       "    <tr>\n",
       "      <th>1</th>\n",
       "      <td>62</td>\n",
       "      <td>composite</td>\n",
       "      <td>Chicago Spire</td>\n",
       "      <td>2</td>\n",
       "      <td>Chicago</td>\n",
       "      <td>41.889889</td>\n",
       "      <td>-87.614861</td>\n",
       "      <td>609.599976</td>\n",
       "      <td>True</td>\n",
       "    </tr>\n",
       "    <tr>\n",
       "      <th>2</th>\n",
       "      <td>68</td>\n",
       "      <td>composite</td>\n",
       "      <td>Miglin-Beitler Skyneedle</td>\n",
       "      <td>1</td>\n",
       "      <td>Chicago</td>\n",
       "      <td>41.881618</td>\n",
       "      <td>-87.634354</td>\n",
       "      <td>609.489990</td>\n",
       "      <td>True</td>\n",
       "    </tr>\n",
       "    <tr>\n",
       "      <th>3</th>\n",
       "      <td>98</td>\n",
       "      <td>composite</td>\n",
       "      <td>One World Trade Center</td>\n",
       "      <td>3</td>\n",
       "      <td>New York City</td>\n",
       "      <td>40.713112</td>\n",
       "      <td>-74.013351</td>\n",
       "      <td>541.299988</td>\n",
       "      <td>True</td>\n",
       "    </tr>\n",
       "    <tr>\n",
       "      <th>4</th>\n",
       "      <td>14269</td>\n",
       "      <td>concrete</td>\n",
       "      <td>Central Park Tower</td>\n",
       "      <td>2</td>\n",
       "      <td>New York City</td>\n",
       "      <td>40.766361</td>\n",
       "      <td>-73.980949</td>\n",
       "      <td>541.020020</td>\n",
       "      <td>True</td>\n",
       "    </tr>\n",
       "  </tbody>\n",
       "</table>\n",
       "</div>"
      ],
      "text/plain": [
       "      id   material                      name  development.phase  \\\n",
       "0     12      steel              The Illinois                  1   \n",
       "1     62  composite             Chicago Spire                  2   \n",
       "2     68  composite  Miglin-Beitler Skyneedle                  1   \n",
       "3     98  composite    One World Trade Center                  3   \n",
       "4  14269   concrete        Central Park Tower                  2   \n",
       "\n",
       "   location.city  location.latitude  location.longitude  statistics.height  \\\n",
       "0        Chicago           0.000000            0.000000        1609.359985   \n",
       "1        Chicago          41.889889          -87.614861         609.599976   \n",
       "2        Chicago          41.881618          -87.634354         609.489990   \n",
       "3  New York City          40.713112          -74.013351         541.299988   \n",
       "4  New York City          40.766361          -73.980949         541.020020   \n",
       "\n",
       "   tall?  \n",
       "0   True  \n",
       "1   True  \n",
       "2   True  \n",
       "3   True  \n",
       "4   True  "
      ]
     },
     "execution_count": 150,
     "metadata": {},
     "output_type": "execute_result"
    }
   ],
   "source": [
    "skyscrapers.head()"
   ]
  },
  {
   "cell_type": "markdown",
   "id": "introductory-brisbane",
   "metadata": {},
   "source": [
    "Is there a relationship between a Skyscrapers latitude and height?"
   ]
  },
  {
   "cell_type": "code",
   "execution_count": null,
   "id": "together-restoration",
   "metadata": {},
   "outputs": [],
   "source": []
  },
  {
   "cell_type": "markdown",
   "id": "noted-alexandria",
   "metadata": {},
   "source": [
    "Are `New York City` skyscrapers bigger than `Chicago` skyscrapers?"
   ]
  },
  {
   "cell_type": "code",
   "execution_count": null,
   "id": "buried-rating",
   "metadata": {},
   "outputs": [],
   "source": []
  },
  {
   "cell_type": "markdown",
   "id": "vietnamese-arthritis",
   "metadata": {},
   "source": [
    "In the dataset, completed skyscrapers are phase 3, in-progress skyscrapers are phase 2, and not-started skyscrapers are phase 1.\n",
    "Considering only skyscrapers made with concrete and steel, is there a difference in the distribution of the different development phases between the two materials? "
   ]
  },
  {
   "cell_type": "code",
   "execution_count": 157,
   "id": "particular-cassette",
   "metadata": {},
   "outputs": [
    {
     "data": {
      "text/html": [
       "<div>\n",
       "<style scoped>\n",
       "    .dataframe tbody tr th:only-of-type {\n",
       "        vertical-align: middle;\n",
       "    }\n",
       "\n",
       "    .dataframe tbody tr th {\n",
       "        vertical-align: top;\n",
       "    }\n",
       "\n",
       "    .dataframe thead th {\n",
       "        text-align: right;\n",
       "    }\n",
       "</style>\n",
       "<table border=\"1\" class=\"dataframe\">\n",
       "  <thead>\n",
       "    <tr style=\"text-align: right;\">\n",
       "      <th>development.phase</th>\n",
       "      <th>1</th>\n",
       "      <th>2</th>\n",
       "      <th>3</th>\n",
       "    </tr>\n",
       "    <tr>\n",
       "      <th>material</th>\n",
       "      <th></th>\n",
       "      <th></th>\n",
       "      <th></th>\n",
       "    </tr>\n",
       "  </thead>\n",
       "  <tbody>\n",
       "    <tr>\n",
       "      <th>concrete</th>\n",
       "      <td>99</td>\n",
       "      <td>162</td>\n",
       "      <td>1105</td>\n",
       "    </tr>\n",
       "    <tr>\n",
       "      <th>steel</th>\n",
       "      <td>9</td>\n",
       "      <td>10</td>\n",
       "      <td>856</td>\n",
       "    </tr>\n",
       "  </tbody>\n",
       "</table>\n",
       "</div>"
      ],
      "text/plain": [
       "development.phase   1    2     3\n",
       "material                        \n",
       "concrete           99  162  1105\n",
       "steel               9   10   856"
      ]
     },
     "execution_count": 157,
     "metadata": {},
     "output_type": "execute_result"
    }
   ],
   "source": []
  },
  {
   "cell_type": "markdown",
   "id": "breathing-inquiry",
   "metadata": {},
   "source": [
    "# Part 6) Effect Sizes\n",
    "\n",
    "Watch the videos, and answer the questions.\n",
    "\n",
    "https://youtu.be/PyNzbDbjs1Y"
   ]
  },
  {
   "cell_type": "markdown",
   "id": "hawaiian-interference",
   "metadata": {},
   "source": [
    "#### Q6.1)\n",
    "\n",
    "Why is it important to present p-values AND effect sizes?"
   ]
  },
  {
   "cell_type": "markdown",
   "id": "careful-colon",
   "metadata": {},
   "source": [
    "Even if a result is statistically significant, the degree of change may be so small that it is unhelpful to humans."
   ]
  },
  {
   "cell_type": "markdown",
   "id": "surprised-joining",
   "metadata": {},
   "source": [
    "#### Q6.2)\n",
    "\n",
    "The video briefly suggests some ways to calculate effect size. For each of the following, give a brief explanation:\n"
   ]
  },
  {
   "cell_type": "markdown",
   "id": "reported-anchor",
   "metadata": {},
   "source": [
    "* Pearson Correlation: A value between -1 and 1 that measures the strength of association between two variables.\n",
    "* R Squared: Often used in regression models, this is a value that represents how much variance in the dependent variable is explained by change in an independent variable.\n",
    "* Cohen's d Effect Size: A value obtained by calculating a difference between means divided by the standard deviation.\n",
    "* Eta Squared: Typically used in ANOVA models, this is a value that represents how much variance (for the sample) in the dependent variable is being explained by another variable.\n",
    "* Odds Ratio: The odds ratio calculates the association between two binary values by comparing their odds (odds of A / odds of B)."
   ]
  },
  {
   "cell_type": "markdown",
   "id": "collected-elephant",
   "metadata": {},
   "source": [
    "#### Q6.3)\n",
    "\n",
    "Watch the following video, then answer the question below.\n",
    "\n",
    "https://youtu.be/6uYNVCy-8NA"
   ]
  },
  {
   "cell_type": "markdown",
   "id": "likely-lover",
   "metadata": {},
   "source": [
    "In the video, the speaker suggests concrete ways to interpret effect sizes. However, Cohen warned about turning effect size numbers into ideas of \"small\", \"medium\", and \"large\". What is dangerous about interpreting effect size values?"
   ]
  },
  {
   "cell_type": "markdown",
   "id": "reported-rebate",
   "metadata": {},
   "source": [
    "The interpretation of effect size depends on context as well as the value. A small effect size might not be \"worth it\" in some situations, but is significant and still desirable in situations where the intervention is easy/cheap to implement. But if somebody sees that the effect size is \"small\", they may just gloss over it."
   ]
  },
  {
   "cell_type": "markdown",
   "id": "varied-collar",
   "metadata": {},
   "source": [
    "#### Q6.4)\n",
    "\n",
    "Your arch-nemesis stands up and reports, \"In our study, we found a significant difference between the control group and the treatment group. Clearly, my research team deserves more funding.\" You raise your hand to ask a question - what do you ask?"
   ]
  },
  {
   "cell_type": "markdown",
   "id": "intermediate-capacity",
   "metadata": {},
   "source": [
    "What is the effect size?"
   ]
  },
  {
   "cell_type": "markdown",
   "id": "intermediate-aerospace",
   "metadata": {},
   "source": [
    "#### Q6.5)\n",
    "\n",
    "Previously, you were asked to calculate whether there was a significant difference between `New York City` and `Chicago` skyscrapers. Now provide a measure of effect size to fully characterize their difference."
   ]
  },
  {
   "cell_type": "code",
   "execution_count": 56,
   "id": "coordinate-effects",
   "metadata": {},
   "outputs": [
    {
     "data": {
      "text/plain": [
       "0.1415001919471798"
      ]
     },
     "execution_count": 56,
     "metadata": {},
     "output_type": "execute_result"
    }
   ],
   "source": [
    "from math import sqrt\n",
    "\n",
    "nyc = skyscrapers.where(skyscrapers['location.city'] == \"New York City\").dropna()['statistics.height']\n",
    "nyc = nyc.where(nyc > 0).dropna()\n",
    "\n",
    "chicago = skyscrapers.where(skyscrapers['location.city'] == \"Chicago\").dropna()['statistics.height']\n",
    "chicago = chicago.where(chicago > 0).dropna()\n",
    "\n",
    "# Calculating Cohen's d\n",
    "# Reference: https://stackoverflow.com/questions/21532471/how-to-calculate-cohens-d-in-python\n",
    "# Reference: https://en.wikipedia.org/wiki/Effect_size#Cohen's_d\n",
    "(nyc.mean() - chicago.mean()) / (sqrt((nyc.std() ** 2 + chicago.std() ** 2) / 2))"
   ]
  },
  {
   "cell_type": "markdown",
   "id": "incomplete-ability",
   "metadata": {},
   "source": [
    "The measure of effect, 0.14 (Cohen's d), is considered to be small."
   ]
  }
 ],
 "metadata": {
  "kernelspec": {
   "display_name": "Python 3",
   "language": "python",
   "name": "python3"
  },
  "language_info": {
   "codemirror_mode": {
    "name": "ipython",
    "version": 3
   },
   "file_extension": ".py",
   "mimetype": "text/x-python",
   "name": "python",
   "nbconvert_exporter": "python",
   "pygments_lexer": "ipython3",
   "version": "3.9.1"
  }
 },
 "nbformat": 4,
 "nbformat_minor": 5
}
